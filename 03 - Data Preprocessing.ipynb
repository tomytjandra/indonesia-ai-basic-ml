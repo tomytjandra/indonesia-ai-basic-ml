{
 "cells": [
  {
   "cell_type": "markdown",
   "metadata": {},
   "source": [
    "# Data Preprocessing"
   ]
  },
  {
   "cell_type": "markdown",
   "metadata": {},
   "source": [
    "## Goal\n",
    "\n",
    "Goal of Data Preprocessing in building Machine Learning:\n",
    "1. Understand and prepare the datasets for ML modeling process\n",
    "2. Transform raw data into understandable, useful, and efficient format."
   ]
  },
  {
   "cell_type": "markdown",
   "metadata": {},
   "source": [
    "## Data Handling\n",
    "\n",
    "Problems:\n",
    "- Missing or incomplete\n",
    "    - Attributes/values are missing\n",
    "    - Only aggregated data is available\n",
    "- Noisy: errors, outliers, inconsistency\n",
    "- Categorical or continuous: data are not standardized\n",
    "\n",
    "\n",
    "Solutions:\n",
    "- Replace with default value\n",
    "- Replace with mean/median/mode\n",
    "- Drop data"
   ]
  },
  {
   "cell_type": "markdown",
   "metadata": {},
   "source": [
    "## Data Transformation\n",
    "\n",
    "- Transform data to be learned easier by computer\n",
    "- Simplify data by decreasing its scale\n",
    "- Convert data type to categorical or numerical"
   ]
  },
  {
   "cell_type": "markdown",
   "metadata": {},
   "source": [
    "### Categorical\n",
    "\n",
    "Two methods to transform categorical features into numerical value:\n",
    "\n",
    "1. Label encoder for ordinal data. Example:\n",
    "    - Low = 1\n",
    "    - Medium = 2\n",
    "    - High = 3\n",
    "\n",
    "\n",
    "2. One hot encoder for nominal data. Example:\n",
    "    - Male = [1, 0]\n",
    "    - Female = [0, 1]"
   ]
  },
  {
   "cell_type": "markdown",
   "metadata": {},
   "source": [
    "### Numerical\n",
    "\n",
    "Two methods to transform numerical feature for having same scale:\n",
    "\n",
    "1. Standard scaler: into standard normal distribution (mean = 0, sd = 1)\n",
    "2. Min-max scaler: into range 0 to 1"
   ]
  },
  {
   "cell_type": "markdown",
   "metadata": {},
   "source": [
    "## Feature Analysis\n",
    "\n",
    "1. Feature selection:\n",
    "    - Based on domain knowledge\n",
    "    - Exclude unnecessary features\n",
    "    - Visualization: heatmap, etc\n",
    "\n",
    "\n",
    "2. Feature engineering:\n",
    "    - Based on domain knowledge\n",
    "    - Generate new feature based on other related dataset\n",
    "\n",
    "\n",
    "3. Dimensionality reduction:\n",
    "    - Keep all information from all feature before extract the information\n",
    "    - Techniques: Principal Component Analysis, Linear Discriminant Analysis, Auto Encoder (using Neural Network)"
   ]
  },
  {
   "cell_type": "markdown",
   "metadata": {},
   "source": [
    "# Load Library"
   ]
  },
  {
   "cell_type": "code",
   "execution_count": 1,
   "metadata": {},
   "outputs": [],
   "source": [
    "import pandas as pd\n",
    "import numpy as np\n",
    "import matplotlib.pyplot as plt\n",
    "import seaborn as sns\n",
    "\n",
    "plt.style.use('seaborn')"
   ]
  },
  {
   "cell_type": "markdown",
   "metadata": {},
   "source": [
    "# Employee Dataset"
   ]
  },
  {
   "cell_type": "markdown",
   "metadata": {},
   "source": [
    "## Load Data"
   ]
  },
  {
   "cell_type": "code",
   "execution_count": 2,
   "metadata": {
    "scrolled": true
   },
   "outputs": [
    {
     "data": {
      "text/html": [
       "<div>\n",
       "<style scoped>\n",
       "    .dataframe tbody tr th:only-of-type {\n",
       "        vertical-align: middle;\n",
       "    }\n",
       "\n",
       "    .dataframe tbody tr th {\n",
       "        vertical-align: top;\n",
       "    }\n",
       "\n",
       "    .dataframe thead th {\n",
       "        text-align: right;\n",
       "    }\n",
       "</style>\n",
       "<table border=\"1\" class=\"dataframe\">\n",
       "  <thead>\n",
       "    <tr style=\"text-align: right;\">\n",
       "      <th></th>\n",
       "      <th>no</th>\n",
       "      <th>nama</th>\n",
       "      <th>tanggal_lahir</th>\n",
       "      <th>jenis_kelamin</th>\n",
       "      <th>gaji</th>\n",
       "    </tr>\n",
       "  </thead>\n",
       "  <tbody>\n",
       "    <tr>\n",
       "      <th>0</th>\n",
       "      <td>1</td>\n",
       "      <td>ani</td>\n",
       "      <td>3/2/1993</td>\n",
       "      <td>perempuan</td>\n",
       "      <td>1000000</td>\n",
       "    </tr>\n",
       "    <tr>\n",
       "      <th>1</th>\n",
       "      <td>2</td>\n",
       "      <td>budi</td>\n",
       "      <td>3/1/1992</td>\n",
       "      <td>laki-laki</td>\n",
       "      <td>2000000</td>\n",
       "    </tr>\n",
       "    <tr>\n",
       "      <th>2</th>\n",
       "      <td>3</td>\n",
       "      <td>susi</td>\n",
       "      <td>4/5/2000</td>\n",
       "      <td>perempuan</td>\n",
       "      <td>1350000</td>\n",
       "    </tr>\n",
       "    <tr>\n",
       "      <th>3</th>\n",
       "      <td>4</td>\n",
       "      <td>wati</td>\n",
       "      <td>5/20/1995</td>\n",
       "      <td>perempuan</td>\n",
       "      <td>10000000</td>\n",
       "    </tr>\n",
       "    <tr>\n",
       "      <th>4</th>\n",
       "      <td>5</td>\n",
       "      <td>ati</td>\n",
       "      <td>4/23/1994</td>\n",
       "      <td>perempuan</td>\n",
       "      <td>3400000</td>\n",
       "    </tr>\n",
       "  </tbody>\n",
       "</table>\n",
       "</div>"
      ],
      "text/plain": [
       "   no  nama tanggal_lahir jenis_kelamin      gaji\n",
       "0   1   ani      3/2/1993     perempuan   1000000\n",
       "1   2  budi      3/1/1992     laki-laki   2000000\n",
       "2   3  susi      4/5/2000     perempuan   1350000\n",
       "3   4  wati     5/20/1995     perempuan  10000000\n",
       "4   5   ati     4/23/1994     perempuan   3400000"
      ]
     },
     "execution_count": 2,
     "metadata": {},
     "output_type": "execute_result"
    }
   ],
   "source": [
    "employee = pd.read_csv(\"datasets/employee.csv\")\n",
    "employee.head()"
   ]
  },
  {
   "cell_type": "markdown",
   "metadata": {},
   "source": [
    "## Inspect Data"
   ]
  },
  {
   "cell_type": "code",
   "execution_count": 3,
   "metadata": {
    "scrolled": true
   },
   "outputs": [
    {
     "data": {
      "text/plain": [
       "(10, 5)"
      ]
     },
     "execution_count": 3,
     "metadata": {},
     "output_type": "execute_result"
    }
   ],
   "source": [
    "employee.shape"
   ]
  },
  {
   "cell_type": "markdown",
   "metadata": {},
   "source": [
    "Cek tipe data, yang harus disesuaikan adalah: `tanggal_lahir` dan `jenis_kelamin`."
   ]
  },
  {
   "cell_type": "code",
   "execution_count": 4,
   "metadata": {
    "scrolled": true
   },
   "outputs": [
    {
     "data": {
      "text/plain": [
       "no                int64\n",
       "nama             object\n",
       "tanggal_lahir    object\n",
       "jenis_kelamin    object\n",
       "gaji              int64\n",
       "dtype: object"
      ]
     },
     "execution_count": 4,
     "metadata": {},
     "output_type": "execute_result"
    }
   ],
   "source": [
    "employee.dtypes"
   ]
  },
  {
   "cell_type": "markdown",
   "metadata": {},
   "source": [
    "Cek missing value:"
   ]
  },
  {
   "cell_type": "code",
   "execution_count": 5,
   "metadata": {
    "scrolled": true
   },
   "outputs": [
    {
     "data": {
      "text/plain": [
       "no               False\n",
       "nama             False\n",
       "tanggal_lahir    False\n",
       "jenis_kelamin    False\n",
       "gaji             False\n",
       "dtype: bool"
      ]
     },
     "execution_count": 5,
     "metadata": {},
     "output_type": "execute_result"
    }
   ],
   "source": [
    "employee.isnull().any()"
   ]
  },
  {
   "cell_type": "markdown",
   "metadata": {},
   "source": [
    "## Preprocess Data"
   ]
  },
  {
   "cell_type": "markdown",
   "metadata": {},
   "source": [
    "### Handling Datetime"
   ]
  },
  {
   "cell_type": "code",
   "execution_count": 6,
   "metadata": {
    "scrolled": true
   },
   "outputs": [
    {
     "data": {
      "text/plain": [
       "no                        int64\n",
       "nama                     object\n",
       "tanggal_lahir    datetime64[ns]\n",
       "jenis_kelamin            object\n",
       "gaji                      int64\n",
       "dtype: object"
      ]
     },
     "execution_count": 6,
     "metadata": {},
     "output_type": "execute_result"
    }
   ],
   "source": [
    "employee['tanggal_lahir'] = pd.to_datetime(employee['tanggal_lahir'])\n",
    "employee.dtypes"
   ]
  },
  {
   "cell_type": "markdown",
   "metadata": {},
   "source": [
    "### Handling Categorical Feature (One-Hot Encoder)"
   ]
  },
  {
   "cell_type": "code",
   "execution_count": 7,
   "metadata": {
    "scrolled": true
   },
   "outputs": [
    {
     "data": {
      "text/html": [
       "<div>\n",
       "<style scoped>\n",
       "    .dataframe tbody tr th:only-of-type {\n",
       "        vertical-align: middle;\n",
       "    }\n",
       "\n",
       "    .dataframe tbody tr th {\n",
       "        vertical-align: top;\n",
       "    }\n",
       "\n",
       "    .dataframe thead th {\n",
       "        text-align: right;\n",
       "    }\n",
       "</style>\n",
       "<table border=\"1\" class=\"dataframe\">\n",
       "  <thead>\n",
       "    <tr style=\"text-align: right;\">\n",
       "      <th></th>\n",
       "      <th>jk_laki-laki</th>\n",
       "      <th>jk_perempuan</th>\n",
       "    </tr>\n",
       "  </thead>\n",
       "  <tbody>\n",
       "    <tr>\n",
       "      <th>0</th>\n",
       "      <td>0</td>\n",
       "      <td>1</td>\n",
       "    </tr>\n",
       "    <tr>\n",
       "      <th>1</th>\n",
       "      <td>1</td>\n",
       "      <td>0</td>\n",
       "    </tr>\n",
       "    <tr>\n",
       "      <th>2</th>\n",
       "      <td>0</td>\n",
       "      <td>1</td>\n",
       "    </tr>\n",
       "    <tr>\n",
       "      <th>3</th>\n",
       "      <td>0</td>\n",
       "      <td>1</td>\n",
       "    </tr>\n",
       "    <tr>\n",
       "      <th>4</th>\n",
       "      <td>0</td>\n",
       "      <td>1</td>\n",
       "    </tr>\n",
       "  </tbody>\n",
       "</table>\n",
       "</div>"
      ],
      "text/plain": [
       "   jk_laki-laki  jk_perempuan\n",
       "0             0             1\n",
       "1             1             0\n",
       "2             0             1\n",
       "3             0             1\n",
       "4             0             1"
      ]
     },
     "execution_count": 7,
     "metadata": {},
     "output_type": "execute_result"
    }
   ],
   "source": [
    "jk_dummies = pd.get_dummies(employee['jenis_kelamin'], prefix='jk')\n",
    "jk_dummies.head()"
   ]
  },
  {
   "cell_type": "markdown",
   "metadata": {},
   "source": [
    "Gabungkan hasil one-hot encoder dengan dataframe utama:"
   ]
  },
  {
   "cell_type": "code",
   "execution_count": 8,
   "metadata": {
    "scrolled": true
   },
   "outputs": [
    {
     "data": {
      "text/html": [
       "<div>\n",
       "<style scoped>\n",
       "    .dataframe tbody tr th:only-of-type {\n",
       "        vertical-align: middle;\n",
       "    }\n",
       "\n",
       "    .dataframe tbody tr th {\n",
       "        vertical-align: top;\n",
       "    }\n",
       "\n",
       "    .dataframe thead th {\n",
       "        text-align: right;\n",
       "    }\n",
       "</style>\n",
       "<table border=\"1\" class=\"dataframe\">\n",
       "  <thead>\n",
       "    <tr style=\"text-align: right;\">\n",
       "      <th></th>\n",
       "      <th>no</th>\n",
       "      <th>nama</th>\n",
       "      <th>tanggal_lahir</th>\n",
       "      <th>jenis_kelamin</th>\n",
       "      <th>gaji</th>\n",
       "      <th>jk_laki-laki</th>\n",
       "      <th>jk_perempuan</th>\n",
       "    </tr>\n",
       "  </thead>\n",
       "  <tbody>\n",
       "    <tr>\n",
       "      <th>0</th>\n",
       "      <td>1</td>\n",
       "      <td>ani</td>\n",
       "      <td>1993-03-02</td>\n",
       "      <td>perempuan</td>\n",
       "      <td>1000000</td>\n",
       "      <td>0</td>\n",
       "      <td>1</td>\n",
       "    </tr>\n",
       "    <tr>\n",
       "      <th>1</th>\n",
       "      <td>2</td>\n",
       "      <td>budi</td>\n",
       "      <td>1992-03-01</td>\n",
       "      <td>laki-laki</td>\n",
       "      <td>2000000</td>\n",
       "      <td>1</td>\n",
       "      <td>0</td>\n",
       "    </tr>\n",
       "    <tr>\n",
       "      <th>2</th>\n",
       "      <td>3</td>\n",
       "      <td>susi</td>\n",
       "      <td>2000-04-05</td>\n",
       "      <td>perempuan</td>\n",
       "      <td>1350000</td>\n",
       "      <td>0</td>\n",
       "      <td>1</td>\n",
       "    </tr>\n",
       "    <tr>\n",
       "      <th>3</th>\n",
       "      <td>4</td>\n",
       "      <td>wati</td>\n",
       "      <td>1995-05-20</td>\n",
       "      <td>perempuan</td>\n",
       "      <td>10000000</td>\n",
       "      <td>0</td>\n",
       "      <td>1</td>\n",
       "    </tr>\n",
       "    <tr>\n",
       "      <th>4</th>\n",
       "      <td>5</td>\n",
       "      <td>ati</td>\n",
       "      <td>1994-04-23</td>\n",
       "      <td>perempuan</td>\n",
       "      <td>3400000</td>\n",
       "      <td>0</td>\n",
       "      <td>1</td>\n",
       "    </tr>\n",
       "    <tr>\n",
       "      <th>5</th>\n",
       "      <td>6</td>\n",
       "      <td>ina</td>\n",
       "      <td>1991-05-06</td>\n",
       "      <td>perempuan</td>\n",
       "      <td>5000000</td>\n",
       "      <td>0</td>\n",
       "      <td>1</td>\n",
       "    </tr>\n",
       "    <tr>\n",
       "      <th>6</th>\n",
       "      <td>7</td>\n",
       "      <td>nia</td>\n",
       "      <td>1990-04-05</td>\n",
       "      <td>perempuan</td>\n",
       "      <td>2500000</td>\n",
       "      <td>0</td>\n",
       "      <td>1</td>\n",
       "    </tr>\n",
       "    <tr>\n",
       "      <th>7</th>\n",
       "      <td>8</td>\n",
       "      <td>dodi</td>\n",
       "      <td>1998-04-03</td>\n",
       "      <td>laki-laki</td>\n",
       "      <td>3400000</td>\n",
       "      <td>1</td>\n",
       "      <td>0</td>\n",
       "    </tr>\n",
       "    <tr>\n",
       "      <th>8</th>\n",
       "      <td>9</td>\n",
       "      <td>dedi</td>\n",
       "      <td>1993-06-20</td>\n",
       "      <td>laki-laki</td>\n",
       "      <td>8900000</td>\n",
       "      <td>1</td>\n",
       "      <td>0</td>\n",
       "    </tr>\n",
       "    <tr>\n",
       "      <th>9</th>\n",
       "      <td>10</td>\n",
       "      <td>roni</td>\n",
       "      <td>2001-09-20</td>\n",
       "      <td>laki-laki</td>\n",
       "      <td>2100000</td>\n",
       "      <td>1</td>\n",
       "      <td>0</td>\n",
       "    </tr>\n",
       "  </tbody>\n",
       "</table>\n",
       "</div>"
      ],
      "text/plain": [
       "   no  nama tanggal_lahir jenis_kelamin      gaji  jk_laki-laki  jk_perempuan\n",
       "0   1   ani    1993-03-02     perempuan   1000000             0             1\n",
       "1   2  budi    1992-03-01     laki-laki   2000000             1             0\n",
       "2   3  susi    2000-04-05     perempuan   1350000             0             1\n",
       "3   4  wati    1995-05-20     perempuan  10000000             0             1\n",
       "4   5   ati    1994-04-23     perempuan   3400000             0             1\n",
       "5   6   ina    1991-05-06     perempuan   5000000             0             1\n",
       "6   7   nia    1990-04-05     perempuan   2500000             0             1\n",
       "7   8  dodi    1998-04-03     laki-laki   3400000             1             0\n",
       "8   9  dedi    1993-06-20     laki-laki   8900000             1             0\n",
       "9  10  roni    2001-09-20     laki-laki   2100000             1             0"
      ]
     },
     "execution_count": 8,
     "metadata": {},
     "output_type": "execute_result"
    }
   ],
   "source": [
    "employee_jk = pd.concat([employee, jk_dummies], axis=1)\n",
    "employee_jk"
   ]
  },
  {
   "cell_type": "markdown",
   "metadata": {},
   "source": [
    "Hapus kolom `jenis_kelamin` karena sudah di-encode:"
   ]
  },
  {
   "cell_type": "code",
   "execution_count": 9,
   "metadata": {
    "scrolled": false
   },
   "outputs": [
    {
     "data": {
      "text/html": [
       "<div>\n",
       "<style scoped>\n",
       "    .dataframe tbody tr th:only-of-type {\n",
       "        vertical-align: middle;\n",
       "    }\n",
       "\n",
       "    .dataframe tbody tr th {\n",
       "        vertical-align: top;\n",
       "    }\n",
       "\n",
       "    .dataframe thead th {\n",
       "        text-align: right;\n",
       "    }\n",
       "</style>\n",
       "<table border=\"1\" class=\"dataframe\">\n",
       "  <thead>\n",
       "    <tr style=\"text-align: right;\">\n",
       "      <th></th>\n",
       "      <th>no</th>\n",
       "      <th>nama</th>\n",
       "      <th>tanggal_lahir</th>\n",
       "      <th>gaji</th>\n",
       "      <th>jk_laki-laki</th>\n",
       "      <th>jk_perempuan</th>\n",
       "    </tr>\n",
       "  </thead>\n",
       "  <tbody>\n",
       "    <tr>\n",
       "      <th>0</th>\n",
       "      <td>1</td>\n",
       "      <td>ani</td>\n",
       "      <td>1993-03-02</td>\n",
       "      <td>1000000</td>\n",
       "      <td>0</td>\n",
       "      <td>1</td>\n",
       "    </tr>\n",
       "    <tr>\n",
       "      <th>1</th>\n",
       "      <td>2</td>\n",
       "      <td>budi</td>\n",
       "      <td>1992-03-01</td>\n",
       "      <td>2000000</td>\n",
       "      <td>1</td>\n",
       "      <td>0</td>\n",
       "    </tr>\n",
       "    <tr>\n",
       "      <th>2</th>\n",
       "      <td>3</td>\n",
       "      <td>susi</td>\n",
       "      <td>2000-04-05</td>\n",
       "      <td>1350000</td>\n",
       "      <td>0</td>\n",
       "      <td>1</td>\n",
       "    </tr>\n",
       "    <tr>\n",
       "      <th>3</th>\n",
       "      <td>4</td>\n",
       "      <td>wati</td>\n",
       "      <td>1995-05-20</td>\n",
       "      <td>10000000</td>\n",
       "      <td>0</td>\n",
       "      <td>1</td>\n",
       "    </tr>\n",
       "    <tr>\n",
       "      <th>4</th>\n",
       "      <td>5</td>\n",
       "      <td>ati</td>\n",
       "      <td>1994-04-23</td>\n",
       "      <td>3400000</td>\n",
       "      <td>0</td>\n",
       "      <td>1</td>\n",
       "    </tr>\n",
       "  </tbody>\n",
       "</table>\n",
       "</div>"
      ],
      "text/plain": [
       "   no  nama tanggal_lahir      gaji  jk_laki-laki  jk_perempuan\n",
       "0   1   ani    1993-03-02   1000000             0             1\n",
       "1   2  budi    1992-03-01   2000000             1             0\n",
       "2   3  susi    2000-04-05   1350000             0             1\n",
       "3   4  wati    1995-05-20  10000000             0             1\n",
       "4   5   ati    1994-04-23   3400000             0             1"
      ]
     },
     "execution_count": 9,
     "metadata": {},
     "output_type": "execute_result"
    }
   ],
   "source": [
    "employee_jk = employee_jk.drop('jenis_kelamin', axis=1)\n",
    "employee_jk.head()"
   ]
  },
  {
   "cell_type": "markdown",
   "metadata": {},
   "source": [
    "### Handling Categorical Feature (Label Encoder)"
   ]
  },
  {
   "cell_type": "code",
   "execution_count": 10,
   "metadata": {},
   "outputs": [],
   "source": [
    "from sklearn.preprocessing import LabelEncoder"
   ]
  },
  {
   "cell_type": "code",
   "execution_count": 11,
   "metadata": {
    "run_control": {
     "marked": false
    },
    "scrolled": true
   },
   "outputs": [
    {
     "data": {
      "text/html": [
       "<div>\n",
       "<style scoped>\n",
       "    .dataframe tbody tr th:only-of-type {\n",
       "        vertical-align: middle;\n",
       "    }\n",
       "\n",
       "    .dataframe tbody tr th {\n",
       "        vertical-align: top;\n",
       "    }\n",
       "\n",
       "    .dataframe thead th {\n",
       "        text-align: right;\n",
       "    }\n",
       "</style>\n",
       "<table border=\"1\" class=\"dataframe\">\n",
       "  <thead>\n",
       "    <tr style=\"text-align: right;\">\n",
       "      <th></th>\n",
       "      <th>no</th>\n",
       "      <th>nama</th>\n",
       "      <th>tanggal_lahir</th>\n",
       "      <th>gaji</th>\n",
       "      <th>jk_laki-laki</th>\n",
       "      <th>jk_perempuan</th>\n",
       "      <th>jk_label</th>\n",
       "    </tr>\n",
       "  </thead>\n",
       "  <tbody>\n",
       "    <tr>\n",
       "      <th>0</th>\n",
       "      <td>1</td>\n",
       "      <td>ani</td>\n",
       "      <td>1993-03-02</td>\n",
       "      <td>1000000</td>\n",
       "      <td>0</td>\n",
       "      <td>1</td>\n",
       "      <td>1</td>\n",
       "    </tr>\n",
       "    <tr>\n",
       "      <th>1</th>\n",
       "      <td>2</td>\n",
       "      <td>budi</td>\n",
       "      <td>1992-03-01</td>\n",
       "      <td>2000000</td>\n",
       "      <td>1</td>\n",
       "      <td>0</td>\n",
       "      <td>0</td>\n",
       "    </tr>\n",
       "    <tr>\n",
       "      <th>2</th>\n",
       "      <td>3</td>\n",
       "      <td>susi</td>\n",
       "      <td>2000-04-05</td>\n",
       "      <td>1350000</td>\n",
       "      <td>0</td>\n",
       "      <td>1</td>\n",
       "      <td>1</td>\n",
       "    </tr>\n",
       "    <tr>\n",
       "      <th>3</th>\n",
       "      <td>4</td>\n",
       "      <td>wati</td>\n",
       "      <td>1995-05-20</td>\n",
       "      <td>10000000</td>\n",
       "      <td>0</td>\n",
       "      <td>1</td>\n",
       "      <td>1</td>\n",
       "    </tr>\n",
       "    <tr>\n",
       "      <th>4</th>\n",
       "      <td>5</td>\n",
       "      <td>ati</td>\n",
       "      <td>1994-04-23</td>\n",
       "      <td>3400000</td>\n",
       "      <td>0</td>\n",
       "      <td>1</td>\n",
       "      <td>1</td>\n",
       "    </tr>\n",
       "  </tbody>\n",
       "</table>\n",
       "</div>"
      ],
      "text/plain": [
       "   no  nama tanggal_lahir      gaji  jk_laki-laki  jk_perempuan  jk_label\n",
       "0   1   ani    1993-03-02   1000000             0             1         1\n",
       "1   2  budi    1992-03-01   2000000             1             0         0\n",
       "2   3  susi    2000-04-05   1350000             0             1         1\n",
       "3   4  wati    1995-05-20  10000000             0             1         1\n",
       "4   5   ati    1994-04-23   3400000             0             1         1"
      ]
     },
     "execution_count": 11,
     "metadata": {},
     "output_type": "execute_result"
    }
   ],
   "source": [
    "encoder = LabelEncoder()\n",
    "employee_jk['jk_label'] = encoder.fit_transform(employee['jenis_kelamin'])\n",
    "employee_jk.head()"
   ]
  },
  {
   "cell_type": "markdown",
   "metadata": {},
   "source": [
    "### Handling Numerical Feature (Standard Scaler)"
   ]
  },
  {
   "cell_type": "code",
   "execution_count": 12,
   "metadata": {},
   "outputs": [],
   "source": [
    "from sklearn.preprocessing import StandardScaler"
   ]
  },
  {
   "cell_type": "code",
   "execution_count": 13,
   "metadata": {
    "scrolled": true
   },
   "outputs": [
    {
     "data": {
      "text/html": [
       "<div>\n",
       "<style scoped>\n",
       "    .dataframe tbody tr th:only-of-type {\n",
       "        vertical-align: middle;\n",
       "    }\n",
       "\n",
       "    .dataframe tbody tr th {\n",
       "        vertical-align: top;\n",
       "    }\n",
       "\n",
       "    .dataframe thead th {\n",
       "        text-align: right;\n",
       "    }\n",
       "</style>\n",
       "<table border=\"1\" class=\"dataframe\">\n",
       "  <thead>\n",
       "    <tr style=\"text-align: right;\">\n",
       "      <th></th>\n",
       "      <th>no</th>\n",
       "      <th>nama</th>\n",
       "      <th>tanggal_lahir</th>\n",
       "      <th>gaji</th>\n",
       "      <th>jk_laki-laki</th>\n",
       "      <th>jk_perempuan</th>\n",
       "      <th>jk_label</th>\n",
       "      <th>gaji_standard_scale</th>\n",
       "    </tr>\n",
       "  </thead>\n",
       "  <tbody>\n",
       "    <tr>\n",
       "      <th>0</th>\n",
       "      <td>1</td>\n",
       "      <td>ani</td>\n",
       "      <td>1993-03-02</td>\n",
       "      <td>1000000</td>\n",
       "      <td>0</td>\n",
       "      <td>1</td>\n",
       "      <td>1</td>\n",
       "      <td>-1.001779</td>\n",
       "    </tr>\n",
       "    <tr>\n",
       "      <th>1</th>\n",
       "      <td>2</td>\n",
       "      <td>budi</td>\n",
       "      <td>1992-03-01</td>\n",
       "      <td>2000000</td>\n",
       "      <td>1</td>\n",
       "      <td>0</td>\n",
       "      <td>0</td>\n",
       "      <td>-0.663911</td>\n",
       "    </tr>\n",
       "    <tr>\n",
       "      <th>2</th>\n",
       "      <td>3</td>\n",
       "      <td>susi</td>\n",
       "      <td>2000-04-05</td>\n",
       "      <td>1350000</td>\n",
       "      <td>0</td>\n",
       "      <td>1</td>\n",
       "      <td>1</td>\n",
       "      <td>-0.883525</td>\n",
       "    </tr>\n",
       "    <tr>\n",
       "      <th>3</th>\n",
       "      <td>4</td>\n",
       "      <td>wati</td>\n",
       "      <td>1995-05-20</td>\n",
       "      <td>10000000</td>\n",
       "      <td>0</td>\n",
       "      <td>1</td>\n",
       "      <td>1</td>\n",
       "      <td>2.039035</td>\n",
       "    </tr>\n",
       "    <tr>\n",
       "      <th>4</th>\n",
       "      <td>5</td>\n",
       "      <td>ati</td>\n",
       "      <td>1994-04-23</td>\n",
       "      <td>3400000</td>\n",
       "      <td>0</td>\n",
       "      <td>1</td>\n",
       "      <td>1</td>\n",
       "      <td>-0.190896</td>\n",
       "    </tr>\n",
       "  </tbody>\n",
       "</table>\n",
       "</div>"
      ],
      "text/plain": [
       "   no  nama tanggal_lahir      gaji  jk_laki-laki  jk_perempuan  jk_label  \\\n",
       "0   1   ani    1993-03-02   1000000             0             1         1   \n",
       "1   2  budi    1992-03-01   2000000             1             0         0   \n",
       "2   3  susi    2000-04-05   1350000             0             1         1   \n",
       "3   4  wati    1995-05-20  10000000             0             1         1   \n",
       "4   5   ati    1994-04-23   3400000             0             1         1   \n",
       "\n",
       "   gaji_standard_scale  \n",
       "0            -1.001779  \n",
       "1            -0.663911  \n",
       "2            -0.883525  \n",
       "3             2.039035  \n",
       "4            -0.190896  "
      ]
     },
     "execution_count": 13,
     "metadata": {},
     "output_type": "execute_result"
    }
   ],
   "source": [
    "scaler = StandardScaler()\n",
    "employee_jk['gaji_standard_scale'] = scaler.fit_transform(employee[['gaji']])\n",
    "employee_jk.head()"
   ]
  },
  {
   "cell_type": "markdown",
   "metadata": {},
   "source": [
    "Cek skalanya:"
   ]
  },
  {
   "cell_type": "code",
   "execution_count": 14,
   "metadata": {},
   "outputs": [
    {
     "data": {
      "text/plain": [
       "count    10.000000\n",
       "mean      0.000000\n",
       "std       1.054093\n",
       "min      -1.001779\n",
       "25%      -0.655464\n",
       "50%      -0.342936\n",
       "75%       0.214546\n",
       "max       2.039035\n",
       "Name: gaji_standard_scale, dtype: float64"
      ]
     },
     "execution_count": 14,
     "metadata": {},
     "output_type": "execute_result"
    }
   ],
   "source": [
    "employee_jk['gaji_standard_scale'].describe()"
   ]
  },
  {
   "cell_type": "code",
   "execution_count": 15,
   "metadata": {},
   "outputs": [
    {
     "data": {
      "image/png": "[encoded data removed]",
      "text/plain": [
       "<Figure size 576x396 with 1 Axes>"
      ]
     },
     "metadata": {},
     "output_type": "display_data"
    }
   ],
   "source": [
    "sns.histplot(employee_jk['gaji_standard_scale'])\n",
    "plt.show()"
   ]
  },
  {
   "cell_type": "markdown",
   "metadata": {},
   "source": [
    "### Handling Numerical Feature (Min Max Scaler)"
   ]
  },
  {
   "cell_type": "code",
   "execution_count": 16,
   "metadata": {},
   "outputs": [],
   "source": [
    "from sklearn.preprocessing import MinMaxScaler"
   ]
  },
  {
   "cell_type": "code",
   "execution_count": 17,
   "metadata": {
    "scrolled": true
   },
   "outputs": [
    {
     "data": {
      "text/html": [
       "<div>\n",
       "<style scoped>\n",
       "    .dataframe tbody tr th:only-of-type {\n",
       "        vertical-align: middle;\n",
       "    }\n",
       "\n",
       "    .dataframe tbody tr th {\n",
       "        vertical-align: top;\n",
       "    }\n",
       "\n",
       "    .dataframe thead th {\n",
       "        text-align: right;\n",
       "    }\n",
       "</style>\n",
       "<table border=\"1\" class=\"dataframe\">\n",
       "  <thead>\n",
       "    <tr style=\"text-align: right;\">\n",
       "      <th></th>\n",
       "      <th>no</th>\n",
       "      <th>nama</th>\n",
       "      <th>tanggal_lahir</th>\n",
       "      <th>gaji</th>\n",
       "      <th>jk_laki-laki</th>\n",
       "      <th>jk_perempuan</th>\n",
       "      <th>jk_label</th>\n",
       "      <th>gaji_standard_scale</th>\n",
       "      <th>gaji_minmax_scale</th>\n",
       "    </tr>\n",
       "  </thead>\n",
       "  <tbody>\n",
       "    <tr>\n",
       "      <th>0</th>\n",
       "      <td>1</td>\n",
       "      <td>ani</td>\n",
       "      <td>1993-03-02</td>\n",
       "      <td>1000000</td>\n",
       "      <td>0</td>\n",
       "      <td>1</td>\n",
       "      <td>1</td>\n",
       "      <td>-1.001779</td>\n",
       "      <td>0.000000</td>\n",
       "    </tr>\n",
       "    <tr>\n",
       "      <th>1</th>\n",
       "      <td>2</td>\n",
       "      <td>budi</td>\n",
       "      <td>1992-03-01</td>\n",
       "      <td>2000000</td>\n",
       "      <td>1</td>\n",
       "      <td>0</td>\n",
       "      <td>0</td>\n",
       "      <td>-0.663911</td>\n",
       "      <td>0.111111</td>\n",
       "    </tr>\n",
       "    <tr>\n",
       "      <th>2</th>\n",
       "      <td>3</td>\n",
       "      <td>susi</td>\n",
       "      <td>2000-04-05</td>\n",
       "      <td>1350000</td>\n",
       "      <td>0</td>\n",
       "      <td>1</td>\n",
       "      <td>1</td>\n",
       "      <td>-0.883525</td>\n",
       "      <td>0.038889</td>\n",
       "    </tr>\n",
       "    <tr>\n",
       "      <th>3</th>\n",
       "      <td>4</td>\n",
       "      <td>wati</td>\n",
       "      <td>1995-05-20</td>\n",
       "      <td>10000000</td>\n",
       "      <td>0</td>\n",
       "      <td>1</td>\n",
       "      <td>1</td>\n",
       "      <td>2.039035</td>\n",
       "      <td>1.000000</td>\n",
       "    </tr>\n",
       "    <tr>\n",
       "      <th>4</th>\n",
       "      <td>5</td>\n",
       "      <td>ati</td>\n",
       "      <td>1994-04-23</td>\n",
       "      <td>3400000</td>\n",
       "      <td>0</td>\n",
       "      <td>1</td>\n",
       "      <td>1</td>\n",
       "      <td>-0.190896</td>\n",
       "      <td>0.266667</td>\n",
       "    </tr>\n",
       "  </tbody>\n",
       "</table>\n",
       "</div>"
      ],
      "text/plain": [
       "   no  nama tanggal_lahir      gaji  jk_laki-laki  jk_perempuan  jk_label  \\\n",
       "0   1   ani    1993-03-02   1000000             0             1         1   \n",
       "1   2  budi    1992-03-01   2000000             1             0         0   \n",
       "2   3  susi    2000-04-05   1350000             0             1         1   \n",
       "3   4  wati    1995-05-20  10000000             0             1         1   \n",
       "4   5   ati    1994-04-23   3400000             0             1         1   \n",
       "\n",
       "   gaji_standard_scale  gaji_minmax_scale  \n",
       "0            -1.001779           0.000000  \n",
       "1            -0.663911           0.111111  \n",
       "2            -0.883525           0.038889  \n",
       "3             2.039035           1.000000  \n",
       "4            -0.190896           0.266667  "
      ]
     },
     "execution_count": 17,
     "metadata": {},
     "output_type": "execute_result"
    }
   ],
   "source": [
    "scaler = MinMaxScaler()\n",
    "employee_jk['gaji_minmax_scale'] = scaler.fit_transform(employee[['gaji']])\n",
    "employee_jk.head()"
   ]
  },
  {
   "cell_type": "markdown",
   "metadata": {},
   "source": [
    "Cek skalanya:"
   ]
  },
  {
   "cell_type": "code",
   "execution_count": 18,
   "metadata": {},
   "outputs": [
    {
     "data": {
      "text/plain": [
       "count    10.000000\n",
       "mean      0.329444\n",
       "std       0.346648\n",
       "min       0.000000\n",
       "25%       0.113889\n",
       "50%       0.216667\n",
       "75%       0.400000\n",
       "max       1.000000\n",
       "Name: gaji_minmax_scale, dtype: float64"
      ]
     },
     "execution_count": 18,
     "metadata": {},
     "output_type": "execute_result"
    }
   ],
   "source": [
    "employee_jk['gaji_minmax_scale'].describe()"
   ]
  },
  {
   "cell_type": "code",
   "execution_count": 19,
   "metadata": {},
   "outputs": [
    {
     "data": {
      "image/png": "[encoded data removed]",
      "text/plain": [
       "<Figure size 576x396 with 1 Axes>"
      ]
     },
     "metadata": {},
     "output_type": "display_data"
    }
   ],
   "source": [
    "sns.histplot(employee_jk['gaji_minmax_scale'])\n",
    "plt.show()"
   ]
  }
 ],
 "metadata": {
  "kernelspec": {
   "display_name": "Python [conda env:indonesia-ai]",
   "language": "python",
   "name": "conda-env-indonesia-ai-py"
  },
  "language_info": {
   "codemirror_mode": {
    "name": "ipython",
    "version": 3
   },
   "file_extension": ".py",
   "mimetype": "text/x-python",
   "name": "python",
   "nbconvert_exporter": "python",
   "pygments_lexer": "ipython3",
   "version": "3.7.9"
  },
  "toc": {
   "base_numbering": 1,
   "nav_menu": {},
   "number_sections": true,
   "sideBar": true,
   "skip_h1_title": false,
   "title_cell": "Table of Contents",
   "title_sidebar": "Contents",
   "toc_cell": false,
   "toc_position": {},
   "toc_section_display": true,
   "toc_window_display": false
  },
  "varInspector": {
   "cols": {
    "lenName": 16,
    "lenType": 16,
    "lenVar": 40
   },
   "kernels_config": {
    "python": {
     "delete_cmd_postfix": "",
     "delete_cmd_prefix": "del ",
     "library": "var_list.py",
     "varRefreshCmd": "print(var_dic_list())"
    },
    "r": {
     "delete_cmd_postfix": ") ",
     "delete_cmd_prefix": "rm(",
     "library": "var_list.r",
     "varRefreshCmd": "cat(var_dic_list()) "
    }
   },
   "types_to_exclude": [
    "module",
    "function",
    "builtin_function_or_method",
    "instance",
    "_Feature"
   ],
   "window_display": false
  }
 },
 "nbformat": 4,
 "nbformat_minor": 4
}
