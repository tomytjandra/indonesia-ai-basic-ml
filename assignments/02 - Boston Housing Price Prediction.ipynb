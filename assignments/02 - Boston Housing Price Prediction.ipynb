{
 "cells": [
  {
   "cell_type": "markdown",
   "metadata": {},
   "source": [
    "# Assignment 2: Boston Housing Price Prediction\n",
    "\n",
    "Pada notebook ini, kita akan membangun sebuah machine learning model dengan Linear Regression menggunakan `sklearn` yang dapat memprediksi harga rumah di kota Boston. Dataset `boston` yang digunakan diperoleh dari [Kaggle](https://www.kaggle.com/vikrishnan/boston-house-prices)."
   ]
  },
  {
   "cell_type": "markdown",
   "metadata": {},
   "source": [
    "# Import Libraries\n",
    "\n",
    "Mari kita memanggil library yang akan digunakan pada notebook ini."
   ]
  },
  {
   "cell_type": "code",
   "execution_count": 1,
   "metadata": {},
   "outputs": [],
   "source": [
    "import pandas as pd\n",
    "import numpy as np\n",
    "import matplotlib.pyplot as plt\n",
    "import seaborn as sns\n",
    "\n",
    "from sklearn.model_selection import train_test_split\n",
    "from sklearn.linear_model import LinearRegression\n",
    "from sklearn.metrics import mean_squared_error, mean_absolute_error\n",
    "\n",
    "from IPython.display import display, Math\n",
    "\n",
    "plt.style.use('seaborn')"
   ]
  },
  {
   "cell_type": "markdown",
   "metadata": {},
   "source": [
    "# Data Loading\n",
    "\n",
    "Load data berupa `csv` file dari folder `datasets`."
   ]
  },
  {
   "cell_type": "code",
   "execution_count": 2,
   "metadata": {
    "scrolled": true
   },
   "outputs": [
    {
     "data": {
      "text/html": [
       "<div>\n",
       "<style scoped>\n",
       "    .dataframe tbody tr th:only-of-type {\n",
       "        vertical-align: middle;\n",
       "    }\n",
       "\n",
       "    .dataframe tbody tr th {\n",
       "        vertical-align: top;\n",
       "    }\n",
       "\n",
       "    .dataframe thead th {\n",
       "        text-align: right;\n",
       "    }\n",
       "</style>\n",
       "<table border=\"1\" class=\"dataframe\">\n",
       "  <thead>\n",
       "    <tr style=\"text-align: right;\">\n",
       "      <th></th>\n",
       "      <th>crim</th>\n",
       "      <th>zn</th>\n",
       "      <th>indus</th>\n",
       "      <th>chas</th>\n",
       "      <th>nox</th>\n",
       "      <th>rm</th>\n",
       "      <th>age</th>\n",
       "      <th>dis</th>\n",
       "      <th>rad</th>\n",
       "      <th>tax</th>\n",
       "      <th>ptratio</th>\n",
       "      <th>b</th>\n",
       "      <th>lstat</th>\n",
       "      <th>medv</th>\n",
       "    </tr>\n",
       "  </thead>\n",
       "  <tbody>\n",
       "    <tr>\n",
       "      <th>0</th>\n",
       "      <td>0.00632</td>\n",
       "      <td>18.0</td>\n",
       "      <td>2.31</td>\n",
       "      <td>0</td>\n",
       "      <td>0.538</td>\n",
       "      <td>6.575</td>\n",
       "      <td>65.2</td>\n",
       "      <td>4.0900</td>\n",
       "      <td>1</td>\n",
       "      <td>296</td>\n",
       "      <td>15.3</td>\n",
       "      <td>396.90</td>\n",
       "      <td>4.98</td>\n",
       "      <td>24.0</td>\n",
       "    </tr>\n",
       "    <tr>\n",
       "      <th>1</th>\n",
       "      <td>0.02731</td>\n",
       "      <td>0.0</td>\n",
       "      <td>7.07</td>\n",
       "      <td>0</td>\n",
       "      <td>0.469</td>\n",
       "      <td>6.421</td>\n",
       "      <td>78.9</td>\n",
       "      <td>4.9671</td>\n",
       "      <td>2</td>\n",
       "      <td>242</td>\n",
       "      <td>17.8</td>\n",
       "      <td>396.90</td>\n",
       "      <td>9.14</td>\n",
       "      <td>21.6</td>\n",
       "    </tr>\n",
       "    <tr>\n",
       "      <th>2</th>\n",
       "      <td>0.02729</td>\n",
       "      <td>0.0</td>\n",
       "      <td>7.07</td>\n",
       "      <td>0</td>\n",
       "      <td>0.469</td>\n",
       "      <td>7.185</td>\n",
       "      <td>61.1</td>\n",
       "      <td>4.9671</td>\n",
       "      <td>2</td>\n",
       "      <td>242</td>\n",
       "      <td>17.8</td>\n",
       "      <td>392.83</td>\n",
       "      <td>4.03</td>\n",
       "      <td>34.7</td>\n",
       "    </tr>\n",
       "    <tr>\n",
       "      <th>3</th>\n",
       "      <td>0.03237</td>\n",
       "      <td>0.0</td>\n",
       "      <td>2.18</td>\n",
       "      <td>0</td>\n",
       "      <td>0.458</td>\n",
       "      <td>6.998</td>\n",
       "      <td>45.8</td>\n",
       "      <td>6.0622</td>\n",
       "      <td>3</td>\n",
       "      <td>222</td>\n",
       "      <td>18.7</td>\n",
       "      <td>394.63</td>\n",
       "      <td>2.94</td>\n",
       "      <td>33.4</td>\n",
       "    </tr>\n",
       "    <tr>\n",
       "      <th>4</th>\n",
       "      <td>0.06905</td>\n",
       "      <td>0.0</td>\n",
       "      <td>2.18</td>\n",
       "      <td>0</td>\n",
       "      <td>0.458</td>\n",
       "      <td>7.147</td>\n",
       "      <td>54.2</td>\n",
       "      <td>6.0622</td>\n",
       "      <td>3</td>\n",
       "      <td>222</td>\n",
       "      <td>18.7</td>\n",
       "      <td>396.90</td>\n",
       "      <td>5.33</td>\n",
       "      <td>36.2</td>\n",
       "    </tr>\n",
       "  </tbody>\n",
       "</table>\n",
       "</div>"
      ],
      "text/plain": [
       "      crim    zn  indus  chas    nox     rm   age     dis  rad  tax  ptratio  \\\n",
       "0  0.00632  18.0   2.31     0  0.538  6.575  65.2  4.0900    1  296     15.3   \n",
       "1  0.02731   0.0   7.07     0  0.469  6.421  78.9  4.9671    2  242     17.8   \n",
       "2  0.02729   0.0   7.07     0  0.469  7.185  61.1  4.9671    2  242     17.8   \n",
       "3  0.03237   0.0   2.18     0  0.458  6.998  45.8  6.0622    3  222     18.7   \n",
       "4  0.06905   0.0   2.18     0  0.458  7.147  54.2  6.0622    3  222     18.7   \n",
       "\n",
       "        b  lstat  medv  \n",
       "0  396.90   4.98  24.0  \n",
       "1  396.90   9.14  21.6  \n",
       "2  392.83   4.03  34.7  \n",
       "3  394.63   2.94  33.4  \n",
       "4  396.90   5.33  36.2  "
      ]
     },
     "execution_count": 2,
     "metadata": {},
     "output_type": "execute_result"
    }
   ],
   "source": [
    "boston = pd.read_csv(\"../datasets/boston_data/boston_housing.csv\")\n",
    "boston.head()"
   ]
  },
  {
   "cell_type": "code",
   "execution_count": 3,
   "metadata": {
    "scrolled": true
   },
   "outputs": [
    {
     "name": "stdout",
     "output_type": "stream",
     "text": [
      "Rows: 506\n",
      "Columns: 14\n"
     ]
    }
   ],
   "source": [
    "print(f\"Rows: {boston.shape[0]}\")\n",
    "print(f\"Columns: {boston.shape[1]}\")"
   ]
  },
  {
   "cell_type": "markdown",
   "metadata": {},
   "source": [
    "Setiap baris pada data menggambarkan kota atau pinggiran kota Boston. Ada 506 baris dan 13 atribut (fitur) dengan 1 kolom target, yaitu harga rumah. Berikut adalah deskripsi data masing-masing atribut:\n",
    "\n",
    "1. `crim` - tingkat kriminalitas per kapita\n",
    "2. `zn` - proporsi tanah tempat tinggal yang dikategorikan untuk bidang lebih dari 25.000 kaki persegi\n",
    "3. `indus` - proporsi hektar dari bisnis yang non-retail\n",
    "4. `chas` - apakah saluran berbatasan dengan sungai Charles River? (1 = ya, 0 = tidak)\n",
    "5. `nox` - konsentrasi nitrogen oksida (parts per 10 million)\n",
    "6. `rm` - jumlah rata-rata kamar per hunian\n",
    "7. `age` - proporsi unit yang ditempati pemilik yang dibangun sebelum tahun 1940\n",
    "8. `dis` - rata-rata terbobot jarak ke lima pusat kerja Boston\n",
    "9. `rad` - indeks aksesibilitas ke jalan raya radial\n",
    "10. `tax` - nilai penuh tarif pajak properti (dalam puluhan ribu dollar)\n",
    "11. `ptratio` - rasio murid dengan guru\n",
    "12. `black` - $1000(Bk - 0.63)^2$ dengan $Bk$ adalah proporsi orang dengan kulit hitam\n",
    "13. `lstat` - persentasi penduduk dengan status yang lebih rendah\n",
    "14. `medv` - nilai median dari rumah yang ditempati pemilik (dalam ribu dolar)"
   ]
  },
  {
   "cell_type": "markdown",
   "metadata": {},
   "source": [
    "# Data Preprocessing\n",
    "\n",
    "Sebelum melangkah ke tahap modeling, ada baiknya kita melakukan pembersihan data untuk memastikan bahwa data sudah siap."
   ]
  },
  {
   "cell_type": "markdown",
   "metadata": {},
   "source": [
    "## Check Missing Values\n",
    "\n",
    "Cek kelengkapan nilai pada data. Ternyata data yang kita miliki sudah lengkap."
   ]
  },
  {
   "cell_type": "code",
   "execution_count": 4,
   "metadata": {},
   "outputs": [
    {
     "data": {
      "text/plain": [
       "crim       False\n",
       "zn         False\n",
       "indus      False\n",
       "chas       False\n",
       "nox        False\n",
       "rm         False\n",
       "age        False\n",
       "dis        False\n",
       "rad        False\n",
       "tax        False\n",
       "ptratio    False\n",
       "b          False\n",
       "lstat      False\n",
       "medv       False\n",
       "dtype: bool"
      ]
     },
     "execution_count": 4,
     "metadata": {},
     "output_type": "execute_result"
    }
   ],
   "source": [
    "boston.isnull().any()"
   ]
  },
  {
   "cell_type": "markdown",
   "metadata": {},
   "source": [
    "## Data Types\n",
    "\n",
    "Menyesuaikan tipe data"
   ]
  },
  {
   "cell_type": "code",
   "execution_count": 5,
   "metadata": {
    "scrolled": true
   },
   "outputs": [
    {
     "data": {
      "text/plain": [
       "crim       float64\n",
       "zn         float64\n",
       "indus      float64\n",
       "chas         int64\n",
       "nox        float64\n",
       "rm         float64\n",
       "age        float64\n",
       "dis        float64\n",
       "rad          int64\n",
       "tax          int64\n",
       "ptratio    float64\n",
       "b          float64\n",
       "lstat      float64\n",
       "medv       float64\n",
       "dtype: object"
      ]
     },
     "execution_count": 5,
     "metadata": {},
     "output_type": "execute_result"
    }
   ],
   "source": [
    "boston.dtypes"
   ]
  },
  {
   "cell_type": "markdown",
   "metadata": {},
   "source": [
    "Kolom `chas` adalah sebuah data kategori dengan nilai 0 (No) dan 1 (Yes)."
   ]
  },
  {
   "cell_type": "code",
   "execution_count": 6,
   "metadata": {},
   "outputs": [
    {
     "data": {
      "text/plain": [
       "array([0, 1], dtype=int64)"
      ]
     },
     "execution_count": 6,
     "metadata": {},
     "output_type": "execute_result"
    }
   ],
   "source": [
    "boston['chas'].unique()"
   ]
  },
  {
   "cell_type": "code",
   "execution_count": 7,
   "metadata": {},
   "outputs": [],
   "source": [
    "boston['chas'] = boston['chas'].astype('category')"
   ]
  },
  {
   "cell_type": "markdown",
   "metadata": {},
   "source": [
    "Berikut tipe data setelah diubah:"
   ]
  },
  {
   "cell_type": "code",
   "execution_count": 8,
   "metadata": {},
   "outputs": [
    {
     "data": {
      "text/plain": [
       "crim        float64\n",
       "zn          float64\n",
       "indus       float64\n",
       "chas       category\n",
       "nox         float64\n",
       "rm          float64\n",
       "age         float64\n",
       "dis         float64\n",
       "rad           int64\n",
       "tax           int64\n",
       "ptratio     float64\n",
       "b           float64\n",
       "lstat       float64\n",
       "medv        float64\n",
       "dtype: object"
      ]
     },
     "execution_count": 8,
     "metadata": {},
     "output_type": "execute_result"
    }
   ],
   "source": [
    "boston.dtypes"
   ]
  },
  {
   "cell_type": "markdown",
   "metadata": {},
   "source": [
    "# Exploratory Data Analysis"
   ]
  },
  {
   "cell_type": "markdown",
   "metadata": {},
   "source": [
    "Pertama, kita lihat distribusi target variable `medv` menggunakan boxplot. Ternyata, terdapat cukup banyak outlier pada `medv`:"
   ]
  },
  {
   "cell_type": "code",
   "execution_count": 9,
   "metadata": {},
   "outputs": [
    {
     "data": {
      "image/png": "[encoded data removed]",
      "text/plain": [
       "<Figure size 576x396 with 1 Axes>"
      ]
     },
     "metadata": {},
     "output_type": "display_data"
    }
   ],
   "source": [
    "boston['medv'].plot.box(vert=False)\n",
    "plt.title(\"DISTRIBUTION OF PRICE\", fontweight='bold')\n",
    "plt.show()"
   ]
  },
  {
   "cell_type": "markdown",
   "metadata": {},
   "source": [
    "Kemudian kita tinjau persebaran `medv` berdasarkan `chas` (kolom yang kategorik). Ditemukan perbedaan persebaran antara `chas=0` dengan `chas=1` mengindikasikan bahwa `chas` menjadi calon prediktor yang baik untuk `medv`."
   ]
  },
  {
   "cell_type": "code",
   "execution_count": 10,
   "metadata": {},
   "outputs": [
    {
     "data": {
      "image/png": "[encoded data removed]",
      "text/plain": [
       "<Figure size 576x396 with 1 Axes>"
      ]
     },
     "metadata": {},
     "output_type": "display_data"
    }
   ],
   "source": [
    "sns.boxplot(data=boston, x='chas', y='medv')\n",
    "plt.title(\"DISTRIBUTION OF PRICE FOR CHAS\", fontweight='bold')\n",
    "plt.show()"
   ]
  },
  {
   "cell_type": "markdown",
   "metadata": {},
   "source": [
    "Tinjau korelasi atau hubungan linear antar variable dalam `boston` menggunakan heatmap. Koefisien korelasi berkisar dari -1 sampai 1. Semakin mendekati 1 maka kedua variable memiliki korelasi positif yang kuat. Semakin mendekati -1 maka kedua variable memiliki korelasi negatif yang kuat. Ketika mendekati 0 maka tidak ada korelasi."
   ]
  },
  {
   "cell_type": "code",
   "execution_count": 11,
   "metadata": {
    "scrolled": true
   },
   "outputs": [
    {
     "data": {
      "image/png": "[encoded data removed]",
      "text/plain": [
       "<Figure size 576x396 with 2 Axes>"
      ]
     },
     "metadata": {},
     "output_type": "display_data"
    }
   ],
   "source": [
    "boston_corr = boston.corr()\n",
    "sns.heatmap(boston_corr, annot=True, cmap='RdBu')\n",
    "plt.title(\"CORRELATION HEATMAP\", fontweight='bold')\n",
    "plt.show()"
   ]
  },
  {
   "cell_type": "markdown",
   "metadata": {},
   "source": [
    "Untuk membuat model regresi linear yang baik:\n",
    "1. Pilih feature yang memiliki korelasi yang kuat dengan target variablenya:\n",
    "    - `lstat` dengan `medv`: -0.737663\n",
    "    - `rm` dengan `medv`: 0.695360"
   ]
  },
  {
   "cell_type": "code",
   "execution_count": 12,
   "metadata": {},
   "outputs": [
    {
     "data": {
      "text/html": [
       "<div>\n",
       "<style scoped>\n",
       "    .dataframe tbody tr th:only-of-type {\n",
       "        vertical-align: middle;\n",
       "    }\n",
       "\n",
       "    .dataframe tbody tr th {\n",
       "        vertical-align: top;\n",
       "    }\n",
       "\n",
       "    .dataframe thead th {\n",
       "        text-align: right;\n",
       "    }\n",
       "</style>\n",
       "<table border=\"1\" class=\"dataframe\">\n",
       "  <thead>\n",
       "    <tr style=\"text-align: right;\">\n",
       "      <th></th>\n",
       "      <th>feature_1</th>\n",
       "      <th>feature_2</th>\n",
       "      <th>correlation</th>\n",
       "      <th>abs_correlation</th>\n",
       "    </tr>\n",
       "  </thead>\n",
       "  <tbody>\n",
       "    <tr>\n",
       "      <th>77</th>\n",
       "      <td>lstat</td>\n",
       "      <td>medv</td>\n",
       "      <td>-0.737663</td>\n",
       "      <td>0.737663</td>\n",
       "    </tr>\n",
       "    <tr>\n",
       "      <th>49</th>\n",
       "      <td>rm</td>\n",
       "      <td>medv</td>\n",
       "      <td>0.695360</td>\n",
       "      <td>0.695360</td>\n",
       "    </tr>\n",
       "    <tr>\n",
       "      <th>74</th>\n",
       "      <td>ptratio</td>\n",
       "      <td>medv</td>\n",
       "      <td>-0.507787</td>\n",
       "      <td>0.507787</td>\n",
       "    </tr>\n",
       "    <tr>\n",
       "      <th>32</th>\n",
       "      <td>indus</td>\n",
       "      <td>medv</td>\n",
       "      <td>-0.483725</td>\n",
       "      <td>0.483725</td>\n",
       "    </tr>\n",
       "    <tr>\n",
       "      <th>71</th>\n",
       "      <td>tax</td>\n",
       "      <td>medv</td>\n",
       "      <td>-0.468536</td>\n",
       "      <td>0.468536</td>\n",
       "    </tr>\n",
       "    <tr>\n",
       "      <th>41</th>\n",
       "      <td>nox</td>\n",
       "      <td>medv</td>\n",
       "      <td>-0.427321</td>\n",
       "      <td>0.427321</td>\n",
       "    </tr>\n",
       "    <tr>\n",
       "      <th>11</th>\n",
       "      <td>crim</td>\n",
       "      <td>medv</td>\n",
       "      <td>-0.388305</td>\n",
       "      <td>0.388305</td>\n",
       "    </tr>\n",
       "    <tr>\n",
       "      <th>67</th>\n",
       "      <td>rad</td>\n",
       "      <td>medv</td>\n",
       "      <td>-0.381626</td>\n",
       "      <td>0.381626</td>\n",
       "    </tr>\n",
       "    <tr>\n",
       "      <th>56</th>\n",
       "      <td>age</td>\n",
       "      <td>medv</td>\n",
       "      <td>-0.376955</td>\n",
       "      <td>0.376955</td>\n",
       "    </tr>\n",
       "    <tr>\n",
       "      <th>22</th>\n",
       "      <td>zn</td>\n",
       "      <td>medv</td>\n",
       "      <td>0.360445</td>\n",
       "      <td>0.360445</td>\n",
       "    </tr>\n",
       "    <tr>\n",
       "      <th>76</th>\n",
       "      <td>b</td>\n",
       "      <td>medv</td>\n",
       "      <td>0.333461</td>\n",
       "      <td>0.333461</td>\n",
       "    </tr>\n",
       "    <tr>\n",
       "      <th>62</th>\n",
       "      <td>dis</td>\n",
       "      <td>medv</td>\n",
       "      <td>0.249929</td>\n",
       "      <td>0.249929</td>\n",
       "    </tr>\n",
       "  </tbody>\n",
       "</table>\n",
       "</div>"
      ],
      "text/plain": [
       "   feature_1 feature_2  correlation  abs_correlation\n",
       "77     lstat      medv    -0.737663         0.737663\n",
       "49        rm      medv     0.695360         0.695360\n",
       "74   ptratio      medv    -0.507787         0.507787\n",
       "32     indus      medv    -0.483725         0.483725\n",
       "71       tax      medv    -0.468536         0.468536\n",
       "41       nox      medv    -0.427321         0.427321\n",
       "11      crim      medv    -0.388305         0.388305\n",
       "67       rad      medv    -0.381626         0.381626\n",
       "56       age      medv    -0.376955         0.376955\n",
       "22        zn      medv     0.360445         0.360445\n",
       "76         b      medv     0.333461         0.333461\n",
       "62       dis      medv     0.249929         0.249929"
      ]
     },
     "execution_count": 12,
     "metadata": {},
     "output_type": "execute_result"
    }
   ],
   "source": [
    "upper = boston_corr.where(np.triu(np.ones(boston_corr.shape), k=1).astype(np.bool))\n",
    "pairwise_corr = upper.stack().reset_index()\n",
    "pairwise_corr.columns = ['feature_1', 'feature_2', 'correlation']\n",
    "pairwise_corr['abs_correlation'] = pairwise_corr['correlation'].abs()\n",
    "pairwise_corr[pairwise_corr['feature_2'] == 'medv'].sort_values('abs_correlation', ascending = False)"
   ]
  },
  {
   "cell_type": "code",
   "execution_count": 13,
   "metadata": {
    "scrolled": true
   },
   "outputs": [
    {
     "data": {
      "image/png": "[encoded data removed]",
      "text/plain": [
       "<Figure size 720x360 with 2 Axes>"
      ]
     },
     "metadata": {},
     "output_type": "display_data"
    }
   ],
   "source": [
    "features = ['lstat', 'rm']\n",
    "fig, axes = plt.subplots(1, len(features), figsize=(10,5))\n",
    "\n",
    "for ax, col in zip(axes.flat, features):\n",
    "    sns.scatterplot(x=boston[col], y=boston['medv'], ax=ax)\n",
    "    ax.set_title(f\"CORRELATION: {round(boston.corr().loc['medv', col], 3)}\", fontweight='bold')\n",
    "    ax.set_xlabel(col.upper())\n",
    "    ax.set_ylabel('MEDV')"
   ]
  },
  {
   "cell_type": "markdown",
   "metadata": {},
   "source": [
    "2. Hindari multikolinearitas, yaitu hindari menggunakan dua feature sekaligus yang memiliki korelasi kuat. Ketika terjadi multikolinearitas, maka feature yang digunakan pada model sebenarnya redundan. Misalnya `rad` dengan `tax` memiliki korelasi 0.910228."
   ]
  },
  {
   "cell_type": "code",
   "execution_count": 14,
   "metadata": {},
   "outputs": [
    {
     "data": {
      "text/html": [
       "<div>\n",
       "<style scoped>\n",
       "    .dataframe tbody tr th:only-of-type {\n",
       "        vertical-align: middle;\n",
       "    }\n",
       "\n",
       "    .dataframe tbody tr th {\n",
       "        vertical-align: top;\n",
       "    }\n",
       "\n",
       "    .dataframe thead th {\n",
       "        text-align: right;\n",
       "    }\n",
       "</style>\n",
       "<table border=\"1\" class=\"dataframe\">\n",
       "  <thead>\n",
       "    <tr style=\"text-align: right;\">\n",
       "      <th></th>\n",
       "      <th>feature_1</th>\n",
       "      <th>feature_2</th>\n",
       "      <th>correlation</th>\n",
       "      <th>abs_correlation</th>\n",
       "    </tr>\n",
       "  </thead>\n",
       "  <tbody>\n",
       "    <tr>\n",
       "      <th>63</th>\n",
       "      <td>rad</td>\n",
       "      <td>tax</td>\n",
       "      <td>0.910228</td>\n",
       "      <td>0.910228</td>\n",
       "    </tr>\n",
       "    <tr>\n",
       "      <th>35</th>\n",
       "      <td>nox</td>\n",
       "      <td>dis</td>\n",
       "      <td>-0.769230</td>\n",
       "      <td>0.769230</td>\n",
       "    </tr>\n",
       "    <tr>\n",
       "      <th>23</th>\n",
       "      <td>indus</td>\n",
       "      <td>nox</td>\n",
       "      <td>0.763651</td>\n",
       "      <td>0.763651</td>\n",
       "    </tr>\n",
       "    <tr>\n",
       "      <th>50</th>\n",
       "      <td>age</td>\n",
       "      <td>dis</td>\n",
       "      <td>-0.747881</td>\n",
       "      <td>0.747881</td>\n",
       "    </tr>\n",
       "    <tr>\n",
       "      <th>34</th>\n",
       "      <td>nox</td>\n",
       "      <td>age</td>\n",
       "      <td>0.731470</td>\n",
       "      <td>0.731470</td>\n",
       "    </tr>\n",
       "    <tr>\n",
       "      <th>...</th>\n",
       "      <td>...</td>\n",
       "      <td>...</td>\n",
       "      <td>...</td>\n",
       "      <td>...</td>\n",
       "    </tr>\n",
       "    <tr>\n",
       "      <th>0</th>\n",
       "      <td>crim</td>\n",
       "      <td>zn</td>\n",
       "      <td>-0.200469</td>\n",
       "      <td>0.200469</td>\n",
       "    </tr>\n",
       "    <tr>\n",
       "      <th>38</th>\n",
       "      <td>nox</td>\n",
       "      <td>ptratio</td>\n",
       "      <td>0.188933</td>\n",
       "      <td>0.188933</td>\n",
       "    </tr>\n",
       "    <tr>\n",
       "      <th>72</th>\n",
       "      <td>ptratio</td>\n",
       "      <td>b</td>\n",
       "      <td>-0.177383</td>\n",
       "      <td>0.177383</td>\n",
       "    </tr>\n",
       "    <tr>\n",
       "      <th>20</th>\n",
       "      <td>zn</td>\n",
       "      <td>b</td>\n",
       "      <td>0.175520</td>\n",
       "      <td>0.175520</td>\n",
       "    </tr>\n",
       "    <tr>\n",
       "      <th>47</th>\n",
       "      <td>rm</td>\n",
       "      <td>b</td>\n",
       "      <td>0.128069</td>\n",
       "      <td>0.128069</td>\n",
       "    </tr>\n",
       "  </tbody>\n",
       "</table>\n",
       "<p>66 rows × 4 columns</p>\n",
       "</div>"
      ],
      "text/plain": [
       "   feature_1 feature_2  correlation  abs_correlation\n",
       "63       rad       tax     0.910228         0.910228\n",
       "35       nox       dis    -0.769230         0.769230\n",
       "23     indus       nox     0.763651         0.763651\n",
       "50       age       dis    -0.747881         0.747881\n",
       "34       nox       age     0.731470         0.731470\n",
       "..       ...       ...          ...              ...\n",
       "0       crim        zn    -0.200469         0.200469\n",
       "38       nox   ptratio     0.188933         0.188933\n",
       "72   ptratio         b    -0.177383         0.177383\n",
       "20        zn         b     0.175520         0.175520\n",
       "47        rm         b     0.128069         0.128069\n",
       "\n",
       "[66 rows x 4 columns]"
      ]
     },
     "execution_count": 14,
     "metadata": {},
     "output_type": "execute_result"
    }
   ],
   "source": [
    "pairwise_corr[pairwise_corr['feature_2'] != 'medv'].sort_values('abs_correlation', ascending = False)"
   ]
  },
  {
   "cell_type": "markdown",
   "metadata": {},
   "source": [
    "Kesimpulan untuk tahap modeling:\n",
    "- Feature `chas`, `lstat`, dan `rm` menjadi kandidat predictor yang baik pada model.\n",
    "- Feature `rad` dan `tax` sebaiknya tidak digunakan bersamaan sebagai predictor pada model."
   ]
  },
  {
   "cell_type": "markdown",
   "metadata": {},
   "source": [
    "# Linear Regression\n",
    "\n",
    "Kita persiapkan `X` untuk features dan `y` untuk target variable. Kemudian lakukan train-test splitting dengan proporsi 80:20."
   ]
  },
  {
   "cell_type": "code",
   "execution_count": 15,
   "metadata": {
    "scrolled": true
   },
   "outputs": [
    {
     "name": "stdout",
     "output_type": "stream",
     "text": [
      "Features: (506, 13)\n",
      "Target: (506,)\n"
     ]
    }
   ],
   "source": [
    "X = boston.drop('medv', axis=1)\n",
    "y = boston['medv']\n",
    "print(f\"Features: {X.shape}\")\n",
    "print(f\"Target: {y.shape}\")"
   ]
  },
  {
   "cell_type": "code",
   "execution_count": 16,
   "metadata": {
    "scrolled": true
   },
   "outputs": [
    {
     "name": "stdout",
     "output_type": "stream",
     "text": [
      "Train features: (404, 13)\n",
      "Train target: (404,)\n",
      "Test features: (102, 13)\n",
      "Test target: (102,)\n"
     ]
    }
   ],
   "source": [
    "X_train, X_test, y_train, y_test = train_test_split(X, y, test_size=0.2, random_state=100)\n",
    "print(f\"Train features: {X_train.shape}\")\n",
    "print(f\"Train target: {y_train.shape}\")\n",
    "print(f\"Test features: {X_test.shape}\")\n",
    "print(f\"Test target: {y_test.shape}\")"
   ]
  },
  {
   "cell_type": "markdown",
   "metadata": {},
   "source": [
    "Kita cek standar deviasi dari `y_train` sebagai perbandingan dengan evaluasi RMSE. Apabila ternyata nanti RMSE lebih kecil dibandingkan standar deviasinya, maka dapat dikatakan model cukup baik."
   ]
  },
  {
   "cell_type": "code",
   "execution_count": 17,
   "metadata": {},
   "outputs": [
    {
     "data": {
      "text/plain": [
       "9.028225819481873"
      ]
     },
     "execution_count": 17,
     "metadata": {},
     "output_type": "execute_result"
    }
   ],
   "source": [
    "y_train.std()"
   ]
  },
  {
   "cell_type": "markdown",
   "metadata": {},
   "source": [
    "## Baseline Model\n",
    "\n",
    "Practice yang baik dalam membuat model Machine Learning adalah membuat baseline model. Dalam hal ini, kita memuat model Linear Regression dengan **semua feature** dan **tanpa melakukan scaling**."
   ]
  },
  {
   "cell_type": "code",
   "execution_count": 18,
   "metadata": {},
   "outputs": [
    {
     "data": {
      "text/plain": [
       "LinearRegression()"
      ]
     },
     "execution_count": 18,
     "metadata": {},
     "output_type": "execute_result"
    }
   ],
   "source": [
    "baseline_model = LinearRegression()\n",
    "baseline_model.fit(X_train, y_train)"
   ]
  },
  {
   "cell_type": "markdown",
   "metadata": {},
   "source": [
    "Buat function `evaluate` untuk agar model yang telah dibuat menggunakan data train dapat dievaluasi menggunakan data test. Evaluasi ditinjau dari:\n",
    "1. Nilai R-squared: semakin besar maka semakin baik\n",
    "2. Nilai RMSE: semakin kecil maka semakin baik\n",
    "3. Scatter plot nilai actual vs prediksi: semakin mendekati garis $y=x$ artinya nilai actual = prediksi, maka semakin baik\n",
    "\n",
    "Ketiga poin evaluasi tersebut dilakukan pada data train dan juga test dengan tujuan melihat fitting model kita:\n",
    "\n",
    "| Data Train | Data Test | Fitting      |\n",
    "|------------|-----------|--------------|\n",
    "| Baik       | Buruk     | Overfitting  |\n",
    "| Baik       | Baik      | Just Right   |\n",
    "| Buruk      | Buruk     | Underfitting |"
   ]
  },
  {
   "cell_type": "code",
   "execution_count": 19,
   "metadata": {
    "code_folding": [],
    "run_control": {
     "marked": false
    },
    "scrolled": true
   },
   "outputs": [],
   "source": [
    "def evaluate(model, model_name, X_train, y_train, X_test, y_test, plot=True):\n",
    "    # prediksi\n",
    "    y_pred_test = model.predict(X_test)\n",
    "    y_pred_train = model.predict(X_train)\n",
    "    \n",
    "    # simpan nilai R-squared dan RMSE\n",
    "    metric = \\\n",
    "    {model_name:\n",
    "     {('R-squared', 'Test'): model.score(X_test, y_test),\n",
    "      ('R-squared', 'Train'): model.score(X_train, y_train),\n",
    "      ('RMSE', 'Test'): mean_squared_error(y_test, y_pred_test, squared=False),\n",
    "      ('RMSE', 'Train'): mean_squared_error(y_train, y_pred_train, squared=False)}}\n",
    "    \n",
    "    # visualisasi nilai actual vs prediksi\n",
    "    if plot:\n",
    "        fig, axes = plt.subplots(1, 2, figsize=(10, 5))\n",
    "        data = [(y_test, y_pred_test), (y_train, y_pred_train)]\n",
    "        title = ['TEST SET', 'TRAIN SET']\n",
    "\n",
    "        for ax, (x, y), title in zip(axes, data, title):\n",
    "            sns.scatterplot(x=x, y=y, ax=ax)\n",
    "            ax.plot(x, x, color='red', lw=1)\n",
    "            ax.set_xlabel(\"ACTUAL MEDV\")\n",
    "            ax.set_ylabel(\"PREDICTED MEDV\")\n",
    "            ax.set_title(title)\n",
    "\n",
    "        plt.suptitle(f\"MODEL: {model_name.upper()}\", fontweight='bold')\n",
    "        plt.show()\n",
    "    \n",
    "    return pd.DataFrame(metric).T"
   ]
  },
  {
   "cell_type": "code",
   "execution_count": 20,
   "metadata": {
    "scrolled": false
   },
   "outputs": [
    {
     "data": {
      "image/png": "[encoded data removed]",
      "text/plain": [
       "<Figure size 720x360 with 2 Axes>"
      ]
     },
     "metadata": {},
     "output_type": "display_data"
    },
    {
     "data": {
      "text/html": [
       "<div>\n",
       "<style scoped>\n",
       "    .dataframe tbody tr th:only-of-type {\n",
       "        vertical-align: middle;\n",
       "    }\n",
       "\n",
       "    .dataframe tbody tr th {\n",
       "        vertical-align: top;\n",
       "    }\n",
       "\n",
       "    .dataframe thead tr th {\n",
       "        text-align: left;\n",
       "    }\n",
       "</style>\n",
       "<table border=\"1\" class=\"dataframe\">\n",
       "  <thead>\n",
       "    <tr>\n",
       "      <th></th>\n",
       "      <th colspan=\"2\" halign=\"left\">R-squared</th>\n",
       "      <th colspan=\"2\" halign=\"left\">RMSE</th>\n",
       "    </tr>\n",
       "    <tr>\n",
       "      <th></th>\n",
       "      <th>Test</th>\n",
       "      <th>Train</th>\n",
       "      <th>Test</th>\n",
       "      <th>Train</th>\n",
       "    </tr>\n",
       "  </thead>\n",
       "  <tbody>\n",
       "    <tr>\n",
       "      <th>All Features</th>\n",
       "      <td>0.755503</td>\n",
       "      <td>0.733733</td>\n",
       "      <td>4.859732</td>\n",
       "      <td>4.652889</td>\n",
       "    </tr>\n",
       "  </tbody>\n",
       "</table>\n",
       "</div>"
      ],
      "text/plain": [
       "             R-squared                RMSE          \n",
       "                  Test     Train      Test     Train\n",
       "All Features  0.755503  0.733733  4.859732  4.652889"
      ]
     },
     "execution_count": 20,
     "metadata": {},
     "output_type": "execute_result"
    }
   ],
   "source": [
    "eval_baseline = evaluate(baseline_model, \"All Features\",\n",
    "                         X_train, y_train,\n",
    "                         X_test, y_test)\n",
    "eval_baseline"
   ]
  },
  {
   "cell_type": "markdown",
   "metadata": {},
   "source": [
    "Dari performa `baseline_model` di atas, model dapat dikatakan cukup fit dengan R-squared di data test sebesar 75,55%. Pertanyaannya apakah kita dapat improve performa dari model kita?"
   ]
  },
  {
   "cell_type": "markdown",
   "metadata": {},
   "source": [
    "## Feature Scaling\n",
    "\n",
    "Terdapat dua metode scaling:\n",
    "1. Min Max Scaling: mengubah range menjadi antara 0 sampai 1\n",
    "2. Standard Scaling: mengubah nilai agar memiliki mean=0 dan sd=1\n",
    "\n",
    "Pada bagian ini, kita coba implementasi **MinMaxScaler** saja karena idenya sama. Langkah sebagai berikut:\n",
    "\n",
    "1. Lakukan scaling **hanya pada `X_train`**, hasilnya kita sebut sebagai `X_train_min_max`\n",
    "2. Fitting model dengan feature `X_train_min_max` dan target `y_train`\n",
    "3. Evaluasi model, namun lakukan scaling pada `X_test` menggunakan **scaler yang sama** dengan `X_train`\n",
    "\n",
    "Referensi: https://stats.stackexchange.com/questions/174823/how-to-apply-standardization-normalization-to-train-and-testset-if-prediction-i"
   ]
  },
  {
   "cell_type": "code",
   "execution_count": 21,
   "metadata": {},
   "outputs": [],
   "source": [
    "from sklearn.preprocessing import MinMaxScaler"
   ]
  },
  {
   "cell_type": "code",
   "execution_count": 22,
   "metadata": {},
   "outputs": [],
   "source": [
    "min_max_scaler_X = MinMaxScaler()\n",
    "X_train_min_max = min_max_scaler_X.fit_transform(X_train)"
   ]
  },
  {
   "cell_type": "code",
   "execution_count": 23,
   "metadata": {},
   "outputs": [
    {
     "data": {
      "text/plain": [
       "LinearRegression()"
      ]
     },
     "execution_count": 23,
     "metadata": {},
     "output_type": "execute_result"
    }
   ],
   "source": [
    "min_max_model = LinearRegression()\n",
    "min_max_model.fit(X_train_min_max, y_train)"
   ]
  },
  {
   "cell_type": "code",
   "execution_count": 24,
   "metadata": {
    "scrolled": false
   },
   "outputs": [
    {
     "data": {
      "image/png": "[encoded data removed]",
      "text/plain": [
       "<Figure size 720x360 with 2 Axes>"
      ]
     },
     "metadata": {},
     "output_type": "display_data"
    },
    {
     "data": {
      "text/html": [
       "<div>\n",
       "<style scoped>\n",
       "    .dataframe tbody tr th:only-of-type {\n",
       "        vertical-align: middle;\n",
       "    }\n",
       "\n",
       "    .dataframe tbody tr th {\n",
       "        vertical-align: top;\n",
       "    }\n",
       "\n",
       "    .dataframe thead tr th {\n",
       "        text-align: left;\n",
       "    }\n",
       "</style>\n",
       "<table border=\"1\" class=\"dataframe\">\n",
       "  <thead>\n",
       "    <tr>\n",
       "      <th></th>\n",
       "      <th colspan=\"2\" halign=\"left\">R-squared</th>\n",
       "      <th colspan=\"2\" halign=\"left\">RMSE</th>\n",
       "    </tr>\n",
       "    <tr>\n",
       "      <th></th>\n",
       "      <th>Test</th>\n",
       "      <th>Train</th>\n",
       "      <th>Test</th>\n",
       "      <th>Train</th>\n",
       "    </tr>\n",
       "  </thead>\n",
       "  <tbody>\n",
       "    <tr>\n",
       "      <th>All Features MinMaxScaler</th>\n",
       "      <td>0.755503</td>\n",
       "      <td>0.733733</td>\n",
       "      <td>4.859732</td>\n",
       "      <td>4.652889</td>\n",
       "    </tr>\n",
       "  </tbody>\n",
       "</table>\n",
       "</div>"
      ],
      "text/plain": [
       "                          R-squared                RMSE          \n",
       "                               Test     Train      Test     Train\n",
       "All Features MinMaxScaler  0.755503  0.733733  4.859732  4.652889"
      ]
     },
     "execution_count": 24,
     "metadata": {},
     "output_type": "execute_result"
    }
   ],
   "source": [
    "eval_min_max = evaluate(min_max_model, \"All Features MinMaxScaler\",\n",
    "                        X_train_min_max, y_train,\n",
    "                        min_max_scaler_X.transform(X_test), y_test)\n",
    "eval_min_max"
   ]
  },
  {
   "cell_type": "markdown",
   "metadata": {},
   "source": [
    "Ternyata, feature scaling pada Multiple Linear Regression tidak berpengaruh terhadap performa model. Mengapa? karena terdapat intercept dan coefficient pada regresi yang menyesuaikan terhadap data, sehingga pada kasus ini sebenarnya tidak diperlukan. Namun apabila secara waktu komputasi, scaling akan berguna karena komputasi angkanya lebih ringan. Referensi: https://stats.stackexchange.com/questions/121886/when-should-i-apply-feature-scaling-for-my-data\n",
    "\n",
    "Kita dapat membandingkan persamaan regresi linear dari `baseline_model` dan `min_max_model` sebagai berikut:"
   ]
  },
  {
   "cell_type": "code",
   "execution_count": 25,
   "metadata": {},
   "outputs": [],
   "source": [
    "def print_formula(model, X, y):\n",
    "    formula = f'{y.name} = {round(model.intercept_, 3)} '\n",
    "    for coef, feature in zip(model.coef_, X.columns):\n",
    "        sign = '+' if coef > 0 else '-'\n",
    "        formula += f'{sign} {round(abs(coef), 3)} * {feature} '\n",
    "    display(Math(formula))"
   ]
  },
  {
   "cell_type": "code",
   "execution_count": 26,
   "metadata": {
    "scrolled": true
   },
   "outputs": [
    {
     "data": {
      "text/latex": [
       "$\\displaystyle medv = 36.334 - 0.081 * crim + 0.048 * zn - 0.005 * indus + 3.063 * chas - 16.137 * nox + 3.672 * rm - 0.009 * age - 1.517 * dis + 0.287 * rad - 0.012 * tax - 0.924 * ptratio + 0.01 * b - 0.486 * lstat $"
      ],
      "text/plain": [
       "<IPython.core.display.Math object>"
      ]
     },
     "metadata": {},
     "output_type": "display_data"
    }
   ],
   "source": [
    "print_formula(baseline_model, X, y)"
   ]
  },
  {
   "cell_type": "code",
   "execution_count": 27,
   "metadata": {
    "scrolled": true
   },
   "outputs": [
    {
     "data": {
      "text/latex": [
       "$\\displaystyle medv = 26.957 - 5.992 * crim + 4.804 * zn - 0.149 * indus + 3.063 * chas - 7.843 * nox + 19.167 * rm - 0.8 * age - 14.538 * dis + 6.607 * rad - 6.339 * tax - 8.687 * ptratio + 3.781 * b - 17.609 * lstat $"
      ],
      "text/plain": [
       "<IPython.core.display.Math object>"
      ]
     },
     "metadata": {},
     "output_type": "display_data"
    }
   ],
   "source": [
    "print_formula(min_max_model, X, y)"
   ]
  },
  {
   "cell_type": "markdown",
   "metadata": {},
   "source": [
    "Dari sini kita tetap memilih `baseline_model` dengan pertimbangan feature yang digunakan masih berupa nilai asli, sehingga formula yang dihasilkan tidak misleading ketika diinterpretasikan."
   ]
  },
  {
   "cell_type": "markdown",
   "metadata": {},
   "source": [
    "## Feature Selection\n",
    "\n",
    "Bagaimana apabila kita menggunakan beberapa feature saja? Terdapat banyak metode untuk melakukan feature selection, namun pada notebook ini saya sajikan dua diantaranya:"
   ]
  },
  {
   "cell_type": "markdown",
   "metadata": {},
   "source": [
    "### Recursive Feature Elimination\n",
    "\n",
    "Pada `sklearn` terdapat fungsi `RFE()` yaitu Recursive Feature Elimination yang idenya membuat feature ranking dari yang paling berkontribusi sampai yang paling tidak berkontribusi.\n",
    "\n",
    "Referensi: https://scikit-learn.org/stable/modules/generated/sklearn.feature_selection.RFE.html"
   ]
  },
  {
   "cell_type": "code",
   "execution_count": 28,
   "metadata": {},
   "outputs": [],
   "source": [
    "from sklearn.feature_selection import RFE"
   ]
  },
  {
   "cell_type": "markdown",
   "metadata": {},
   "source": [
    "Kita dapat secara iteratif coba untuk memperoleh model yang terbaik ketika menggunakan 1-13 features:"
   ]
  },
  {
   "cell_type": "code",
   "execution_count": 29,
   "metadata": {
    "run_control": {
     "marked": false
    }
   },
   "outputs": [],
   "source": [
    "df_list = []\n",
    "feature_list = []\n",
    "\n",
    "for n_features in range(1, len(X.columns)+1):\n",
    "    # feature selection\n",
    "    selector = RFE(baseline_model, n_features_to_select=n_features)\n",
    "    selector = selector.fit(X_train, y_train)\n",
    "    \n",
    "    X_train_selected = X_train.loc[:,selector.support_]\n",
    "    X_test_selected = X_test.loc[:,selector.support_]\n",
    "    \n",
    "    # modeling\n",
    "    lr = LinearRegression()\n",
    "    lr.fit(X_train_selected, y_train)\n",
    "    \n",
    "    # evaluation\n",
    "    eval_df = evaluate(lr, f\"RFE {n_features} features\",\n",
    "                       X_train_selected, y_train,\n",
    "                       X_test_selected, y_test, plot=False)\n",
    "    \n",
    "    df_list.append(eval_df)\n",
    "    feature_list.append(list(X.columns[selector.support_]))"
   ]
  },
  {
   "cell_type": "code",
   "execution_count": 30,
   "metadata": {
    "scrolled": false
   },
   "outputs": [
    {
     "data": {
      "text/html": [
       "<div>\n",
       "<style scoped>\n",
       "    .dataframe tbody tr th:only-of-type {\n",
       "        vertical-align: middle;\n",
       "    }\n",
       "\n",
       "    .dataframe tbody tr th {\n",
       "        vertical-align: top;\n",
       "    }\n",
       "\n",
       "    .dataframe thead tr th {\n",
       "        text-align: left;\n",
       "    }\n",
       "</style>\n",
       "<table border=\"1\" class=\"dataframe\">\n",
       "  <thead>\n",
       "    <tr>\n",
       "      <th></th>\n",
       "      <th colspan=\"2\" halign=\"left\">R-squared</th>\n",
       "      <th colspan=\"2\" halign=\"left\">RMSE</th>\n",
       "      <th>Features</th>\n",
       "    </tr>\n",
       "    <tr>\n",
       "      <th></th>\n",
       "      <th>Test</th>\n",
       "      <th>Train</th>\n",
       "      <th>Test</th>\n",
       "      <th>Train</th>\n",
       "      <th></th>\n",
       "    </tr>\n",
       "  </thead>\n",
       "  <tbody>\n",
       "    <tr>\n",
       "      <th>RFE 1 features</th>\n",
       "      <td>0.177278</td>\n",
       "      <td>0.183740</td>\n",
       "      <td>8.914612</td>\n",
       "      <td>8.146642</td>\n",
       "      <td>[nox]</td>\n",
       "    </tr>\n",
       "    <tr>\n",
       "      <th>RFE 2 features</th>\n",
       "      <td>0.543972</td>\n",
       "      <td>0.531932</td>\n",
       "      <td>6.637000</td>\n",
       "      <td>6.169057</td>\n",
       "      <td>[nox, rm]</td>\n",
       "    </tr>\n",
       "    <tr>\n",
       "      <th>RFE 3 features</th>\n",
       "      <td>0.556237</td>\n",
       "      <td>0.554558</td>\n",
       "      <td>6.547137</td>\n",
       "      <td>6.018106</td>\n",
       "      <td>[chas, nox, rm]</td>\n",
       "    </tr>\n",
       "    <tr>\n",
       "      <th>RFE 4 features</th>\n",
       "      <td>0.622522</td>\n",
       "      <td>0.612842</td>\n",
       "      <td>6.038397</td>\n",
       "      <td>5.610587</td>\n",
       "      <td>[chas, nox, rm, ptratio]</td>\n",
       "    </tr>\n",
       "    <tr>\n",
       "      <th>RFE 5 features</th>\n",
       "      <td>0.643967</td>\n",
       "      <td>0.629623</td>\n",
       "      <td>5.864362</td>\n",
       "      <td>5.487646</td>\n",
       "      <td>[chas, nox, rm, dis, ptratio]</td>\n",
       "    </tr>\n",
       "    <tr>\n",
       "      <th>RFE 6 features</th>\n",
       "      <td>0.730446</td>\n",
       "      <td>0.710056</td>\n",
       "      <td>5.102681</td>\n",
       "      <td>4.855359</td>\n",
       "      <td>[chas, nox, rm, dis, ptratio, lstat]</td>\n",
       "    </tr>\n",
       "    <tr>\n",
       "      <th>RFE 7 features</th>\n",
       "      <td>0.728710</td>\n",
       "      <td>0.712200</td>\n",
       "      <td>5.119085</td>\n",
       "      <td>4.837376</td>\n",
       "      <td>[chas, nox, rm, dis, rad, ptratio, lstat]</td>\n",
       "    </tr>\n",
       "    <tr>\n",
       "      <th>RFE 8 features</th>\n",
       "      <td>0.745221</td>\n",
       "      <td>0.714452</td>\n",
       "      <td>4.960870</td>\n",
       "      <td>4.818413</td>\n",
       "      <td>[crim, chas, nox, rm, dis, rad, ptratio, lstat]</td>\n",
       "    </tr>\n",
       "    <tr>\n",
       "      <th>RFE 9 features</th>\n",
       "      <td>0.746969</td>\n",
       "      <td>0.719172</td>\n",
       "      <td>4.943822</td>\n",
       "      <td>4.778425</td>\n",
       "      <td>[crim, zn, chas, nox, rm, dis, rad, ptratio, l...</td>\n",
       "    </tr>\n",
       "    <tr>\n",
       "      <th>RFE 10 features</th>\n",
       "      <td>0.749706</td>\n",
       "      <td>0.727464</td>\n",
       "      <td>4.917007</td>\n",
       "      <td>4.707347</td>\n",
       "      <td>[crim, zn, chas, nox, rm, dis, rad, tax, ptrat...</td>\n",
       "    </tr>\n",
       "    <tr>\n",
       "      <th>RFE 11 features</th>\n",
       "      <td>0.757481</td>\n",
       "      <td>0.733506</td>\n",
       "      <td>4.840035</td>\n",
       "      <td>4.654872</td>\n",
       "      <td>[crim, zn, chas, nox, rm, dis, rad, tax, ptrat...</td>\n",
       "    </tr>\n",
       "    <tr>\n",
       "      <th>RFE 12 features</th>\n",
       "      <td>0.755671</td>\n",
       "      <td>0.733729</td>\n",
       "      <td>4.858063</td>\n",
       "      <td>4.652925</td>\n",
       "      <td>[crim, zn, chas, nox, rm, age, dis, rad, tax, ...</td>\n",
       "    </tr>\n",
       "    <tr>\n",
       "      <th>RFE 13 features</th>\n",
       "      <td>0.755503</td>\n",
       "      <td>0.733733</td>\n",
       "      <td>4.859732</td>\n",
       "      <td>4.652889</td>\n",
       "      <td>[crim, zn, indus, chas, nox, rm, age, dis, rad...</td>\n",
       "    </tr>\n",
       "  </tbody>\n",
       "</table>\n",
       "</div>"
      ],
      "text/plain": [
       "                R-squared                RMSE            \\\n",
       "                     Test     Train      Test     Train   \n",
       "RFE 1 features   0.177278  0.183740  8.914612  8.146642   \n",
       "RFE 2 features   0.543972  0.531932  6.637000  6.169057   \n",
       "RFE 3 features   0.556237  0.554558  6.547137  6.018106   \n",
       "RFE 4 features   0.622522  0.612842  6.038397  5.610587   \n",
       "RFE 5 features   0.643967  0.629623  5.864362  5.487646   \n",
       "RFE 6 features   0.730446  0.710056  5.102681  4.855359   \n",
       "RFE 7 features   0.728710  0.712200  5.119085  4.837376   \n",
       "RFE 8 features   0.745221  0.714452  4.960870  4.818413   \n",
       "RFE 9 features   0.746969  0.719172  4.943822  4.778425   \n",
       "RFE 10 features  0.749706  0.727464  4.917007  4.707347   \n",
       "RFE 11 features  0.757481  0.733506  4.840035  4.654872   \n",
       "RFE 12 features  0.755671  0.733729  4.858063  4.652925   \n",
       "RFE 13 features  0.755503  0.733733  4.859732  4.652889   \n",
       "\n",
       "                                                          Features  \n",
       "                                                                    \n",
       "RFE 1 features                                               [nox]  \n",
       "RFE 2 features                                           [nox, rm]  \n",
       "RFE 3 features                                     [chas, nox, rm]  \n",
       "RFE 4 features                            [chas, nox, rm, ptratio]  \n",
       "RFE 5 features                       [chas, nox, rm, dis, ptratio]  \n",
       "RFE 6 features                [chas, nox, rm, dis, ptratio, lstat]  \n",
       "RFE 7 features           [chas, nox, rm, dis, rad, ptratio, lstat]  \n",
       "RFE 8 features     [crim, chas, nox, rm, dis, rad, ptratio, lstat]  \n",
       "RFE 9 features   [crim, zn, chas, nox, rm, dis, rad, ptratio, l...  \n",
       "RFE 10 features  [crim, zn, chas, nox, rm, dis, rad, tax, ptrat...  \n",
       "RFE 11 features  [crim, zn, chas, nox, rm, dis, rad, tax, ptrat...  \n",
       "RFE 12 features  [crim, zn, chas, nox, rm, age, dis, rad, tax, ...  \n",
       "RFE 13 features  [crim, zn, indus, chas, nox, rm, age, dis, rad...  "
      ]
     },
     "execution_count": 30,
     "metadata": {},
     "output_type": "execute_result"
    }
   ],
   "source": [
    "eval_rfe = pd.concat(df_list)\n",
    "eval_rfe['Features'] = feature_list\n",
    "eval_rfe"
   ]
  },
  {
   "cell_type": "code",
   "execution_count": 31,
   "metadata": {},
   "outputs": [
    {
     "data": {
      "image/png": "[encoded data removed]",
      "text/plain": [
       "<Figure size 576x396 with 1 Axes>"
      ]
     },
     "metadata": {},
     "output_type": "display_data"
    }
   ],
   "source": [
    "eval_rfe['R-squared'].plot.line()\n",
    "plt.show()"
   ]
  },
  {
   "cell_type": "markdown",
   "metadata": {},
   "source": [
    "Berdasarkan tabel dan plot di atas, diperoleh bahwa ketika menggunakan **11 features** dengan `RFE()`, maka menghasilkan performa R-squared di data test paling baik."
   ]
  },
  {
   "cell_type": "code",
   "execution_count": 33,
   "metadata": {},
   "outputs": [
    {
     "data": {
      "text/plain": [
       "LinearRegression()"
      ]
     },
     "execution_count": 33,
     "metadata": {},
     "output_type": "execute_result"
    }
   ],
   "source": [
    "rfe_feature = eval_rfe.loc['RFE 11 features', 'Features'].values[0]\n",
    "X_train_rfe = X_train.loc[:,rfe_feature]\n",
    "rfe_model = LinearRegression()\n",
    "rfe_model.fit(X_train_rfe, y_train)"
   ]
  },
  {
   "cell_type": "code",
   "execution_count": 34,
   "metadata": {
    "scrolled": false
   },
   "outputs": [
    {
     "data": {
      "text/latex": [
       "$\\displaystyle medv = 36.608 - 0.081 * crim + 0.049 * zn + 3.037 * chas - 16.86 * nox + 3.621 * rm - 1.473 * dis + 0.292 * rad - 0.012 * tax - 0.932 * ptratio + 0.009 * b - 0.498 * lstat $"
      ],
      "text/plain": [
       "<IPython.core.display.Math object>"
      ]
     },
     "metadata": {},
     "output_type": "display_data"
    }
   ],
   "source": [
    "print_formula(rfe_model, X_train_rfe, y)"
   ]
  },
  {
   "cell_type": "markdown",
   "metadata": {},
   "source": [
    "Pada `rfe_model`, terdapat 2 prediktor yang tidak digunakan, yaitu `indus` dan `age`."
   ]
  },
  {
   "cell_type": "markdown",
   "metadata": {},
   "source": [
    "### Variable Inflation Factor (VIF)\n",
    "\n",
    "VIF adalah nilai yang digunakan untuk menentukan **derajat multikolinearitas** untuk tiap prediktor. Nilai VIF **di atas 10** dianggap bahwa terjadi multikolinearitas pada data."
   ]
  },
  {
   "cell_type": "code",
   "execution_count": 35,
   "metadata": {},
   "outputs": [],
   "source": [
    "from statsmodels.stats.outliers_influence import variance_inflation_factor"
   ]
  },
  {
   "cell_type": "code",
   "execution_count": 36,
   "metadata": {},
   "outputs": [],
   "source": [
    "def compute_vif(X):\n",
    "    vif = pd.DataFrame()\n",
    "    vif[\"VIF\"] = [variance_inflation_factor(X.values, i) for i in range(X.shape[1])]\n",
    "    vif[\"Feature\"] = X.columns\n",
    "    return vif"
   ]
  },
  {
   "cell_type": "markdown",
   "metadata": {},
   "source": [
    "Di sini secara iteratif saya melakukan remove predictor untuk nilai VIF yang paling terbesar."
   ]
  },
  {
   "cell_type": "code",
   "execution_count": 37,
   "metadata": {},
   "outputs": [],
   "source": [
    "X_train_vif = X_train.copy()\n",
    "while True:\n",
    "    vif = compute_vif(X_train_vif)\n",
    "    largest_vif = vif.sort_values('VIF', ascending=False).head(1)\n",
    "    if largest_vif['VIF'].values[0] > 10:\n",
    "        drop_feature = largest_vif['Feature'].values[0]\n",
    "        X_train_vif.drop(drop_feature, axis=1, inplace=True)\n",
    "    else:\n",
    "        break"
   ]
  },
  {
   "cell_type": "markdown",
   "metadata": {},
   "source": [
    "Berikut adalah hasil akhir dari feature-feature yang digunakan. Sudah tidak ada lagi nilai VIF yang di atas 10."
   ]
  },
  {
   "cell_type": "code",
   "execution_count": 38,
   "metadata": {
    "scrolled": true
   },
   "outputs": [
    {
     "data": {
      "text/html": [
       "<div>\n",
       "<style scoped>\n",
       "    .dataframe tbody tr th:only-of-type {\n",
       "        vertical-align: middle;\n",
       "    }\n",
       "\n",
       "    .dataframe tbody tr th {\n",
       "        vertical-align: top;\n",
       "    }\n",
       "\n",
       "    .dataframe thead th {\n",
       "        text-align: right;\n",
       "    }\n",
       "</style>\n",
       "<table border=\"1\" class=\"dataframe\">\n",
       "  <thead>\n",
       "    <tr style=\"text-align: right;\">\n",
       "      <th></th>\n",
       "      <th>VIF</th>\n",
       "      <th>Feature</th>\n",
       "    </tr>\n",
       "  </thead>\n",
       "  <tbody>\n",
       "    <tr>\n",
       "      <th>0</th>\n",
       "      <td>2.330002</td>\n",
       "      <td>crim</td>\n",
       "    </tr>\n",
       "    <tr>\n",
       "      <th>1</th>\n",
       "      <td>2.273845</td>\n",
       "      <td>zn</td>\n",
       "    </tr>\n",
       "    <tr>\n",
       "      <th>2</th>\n",
       "      <td>7.058626</td>\n",
       "      <td>indus</td>\n",
       "    </tr>\n",
       "    <tr>\n",
       "      <th>3</th>\n",
       "      <td>1.090850</td>\n",
       "      <td>chas</td>\n",
       "    </tr>\n",
       "    <tr>\n",
       "      <th>4</th>\n",
       "      <td>4.079935</td>\n",
       "      <td>dis</td>\n",
       "    </tr>\n",
       "    <tr>\n",
       "      <th>5</th>\n",
       "      <td>4.792627</td>\n",
       "      <td>rad</td>\n",
       "    </tr>\n",
       "    <tr>\n",
       "      <th>6</th>\n",
       "      <td>6.910190</td>\n",
       "      <td>lstat</td>\n",
       "    </tr>\n",
       "  </tbody>\n",
       "</table>\n",
       "</div>"
      ],
      "text/plain": [
       "        VIF Feature\n",
       "0  2.330002    crim\n",
       "1  2.273845      zn\n",
       "2  7.058626   indus\n",
       "3  1.090850    chas\n",
       "4  4.079935     dis\n",
       "5  4.792627     rad\n",
       "6  6.910190   lstat"
      ]
     },
     "execution_count": 38,
     "metadata": {},
     "output_type": "execute_result"
    }
   ],
   "source": [
    "compute_vif(X_train_vif)"
   ]
  },
  {
   "cell_type": "code",
   "execution_count": 39,
   "metadata": {},
   "outputs": [
    {
     "data": {
      "text/plain": [
       "LinearRegression()"
      ]
     },
     "execution_count": 39,
     "metadata": {},
     "output_type": "execute_result"
    }
   ],
   "source": [
    "vif_model = LinearRegression()\n",
    "vif_model.fit(X_train_vif, y_train)"
   ]
  },
  {
   "cell_type": "code",
   "execution_count": 40,
   "metadata": {},
   "outputs": [
    {
     "data": {
      "image/png": "[encoded data removed]",
      "text/plain": [
       "<Figure size 720x360 with 2 Axes>"
      ]
     },
     "metadata": {},
     "output_type": "display_data"
    },
    {
     "data": {
      "text/html": [
       "<div>\n",
       "<style scoped>\n",
       "    .dataframe tbody tr th:only-of-type {\n",
       "        vertical-align: middle;\n",
       "    }\n",
       "\n",
       "    .dataframe tbody tr th {\n",
       "        vertical-align: top;\n",
       "    }\n",
       "\n",
       "    .dataframe thead tr th {\n",
       "        text-align: left;\n",
       "    }\n",
       "</style>\n",
       "<table border=\"1\" class=\"dataframe\">\n",
       "  <thead>\n",
       "    <tr>\n",
       "      <th></th>\n",
       "      <th colspan=\"2\" halign=\"left\">R-squared</th>\n",
       "      <th colspan=\"2\" halign=\"left\">RMSE</th>\n",
       "    </tr>\n",
       "    <tr>\n",
       "      <th></th>\n",
       "      <th>Test</th>\n",
       "      <th>Train</th>\n",
       "      <th>Test</th>\n",
       "      <th>Train</th>\n",
       "    </tr>\n",
       "  </thead>\n",
       "  <tbody>\n",
       "    <tr>\n",
       "      <th>VIF Feature Selection</th>\n",
       "      <td>0.625064</td>\n",
       "      <td>0.635326</td>\n",
       "      <td>6.018032</td>\n",
       "      <td>5.445237</td>\n",
       "    </tr>\n",
       "  </tbody>\n",
       "</table>\n",
       "</div>"
      ],
      "text/plain": [
       "                      R-squared                RMSE          \n",
       "                           Test     Train      Test     Train\n",
       "VIF Feature Selection  0.625064  0.635326  6.018032  5.445237"
      ]
     },
     "execution_count": 40,
     "metadata": {},
     "output_type": "execute_result"
    }
   ],
   "source": [
    "eval_vif = evaluate(vif_model, \"VIF Feature Selection\",\n",
    "                    X_train_vif, y_train,\n",
    "                    X_test[X_train_vif.columns], y_test)\n",
    "eval_vif"
   ]
  },
  {
   "cell_type": "markdown",
   "metadata": {},
   "source": [
    "# Conclusion\n",
    "\n",
    "Berikut adalah perbandingan performa keempat model yang telah kita buat:"
   ]
  },
  {
   "cell_type": "code",
   "execution_count": 41,
   "metadata": {},
   "outputs": [
    {
     "data": {
      "text/html": [
       "<div>\n",
       "<style scoped>\n",
       "    .dataframe tbody tr th:only-of-type {\n",
       "        vertical-align: middle;\n",
       "    }\n",
       "\n",
       "    .dataframe tbody tr th {\n",
       "        vertical-align: top;\n",
       "    }\n",
       "\n",
       "    .dataframe thead tr th {\n",
       "        text-align: left;\n",
       "    }\n",
       "</style>\n",
       "<table border=\"1\" class=\"dataframe\">\n",
       "  <thead>\n",
       "    <tr>\n",
       "      <th></th>\n",
       "      <th colspan=\"2\" halign=\"left\">R-squared</th>\n",
       "      <th colspan=\"2\" halign=\"left\">RMSE</th>\n",
       "    </tr>\n",
       "    <tr>\n",
       "      <th></th>\n",
       "      <th>Test</th>\n",
       "      <th>Train</th>\n",
       "      <th>Test</th>\n",
       "      <th>Train</th>\n",
       "    </tr>\n",
       "  </thead>\n",
       "  <tbody>\n",
       "    <tr>\n",
       "      <th>All Features</th>\n",
       "      <td>0.755503</td>\n",
       "      <td>0.733733</td>\n",
       "      <td>4.859732</td>\n",
       "      <td>4.652889</td>\n",
       "    </tr>\n",
       "    <tr>\n",
       "      <th>All Features MinMaxScaler</th>\n",
       "      <td>0.755503</td>\n",
       "      <td>0.733733</td>\n",
       "      <td>4.859732</td>\n",
       "      <td>4.652889</td>\n",
       "    </tr>\n",
       "    <tr>\n",
       "      <th>RFE 11 features</th>\n",
       "      <td>0.757481</td>\n",
       "      <td>0.733506</td>\n",
       "      <td>4.840035</td>\n",
       "      <td>4.654872</td>\n",
       "    </tr>\n",
       "    <tr>\n",
       "      <th>VIF Feature Selection</th>\n",
       "      <td>0.625064</td>\n",
       "      <td>0.635326</td>\n",
       "      <td>6.018032</td>\n",
       "      <td>5.445237</td>\n",
       "    </tr>\n",
       "  </tbody>\n",
       "</table>\n",
       "</div>"
      ],
      "text/plain": [
       "                          R-squared                RMSE          \n",
       "                               Test     Train      Test     Train\n",
       "All Features               0.755503  0.733733  4.859732  4.652889\n",
       "All Features MinMaxScaler  0.755503  0.733733  4.859732  4.652889\n",
       "RFE 11 features            0.757481  0.733506  4.840035  4.654872\n",
       "VIF Feature Selection      0.625064  0.635326  6.018032  5.445237"
      ]
     },
     "execution_count": 41,
     "metadata": {},
     "output_type": "execute_result"
    }
   ],
   "source": [
    "pd.concat([eval_baseline,\n",
    "           eval_min_max,\n",
    "           eval_rfe.loc[['RFE 11 features'], ['R-squared', 'RMSE']],\n",
    "           eval_vif])"
   ]
  },
  {
   "cell_type": "markdown",
   "metadata": {},
   "source": [
    "**Trade-off:** Apabila kita menggunakan model RFE 11 features, kita mendapatkan model dengan performa yang terbaik, namun model dikatakan masih bias karena terjadi multikolinearitas pada data. Ketika menggunakan model VIF Feature Selection, model tidak bias karena multikolinearitasnya rendah, namun performa model lebih buruk."
   ]
  },
  {
   "cell_type": "code",
   "execution_count": 42,
   "metadata": {},
   "outputs": [
    {
     "data": {
      "text/latex": [
       "$\\displaystyle medv = 36.334 - 0.081 * crim + 0.048 * zn - 0.005 * indus + 3.063 * chas - 16.137 * nox + 3.672 * rm - 0.009 * age - 1.517 * dis + 0.287 * rad - 0.012 * tax - 0.924 * ptratio + 0.01 * b - 0.486 * lstat $"
      ],
      "text/plain": [
       "<IPython.core.display.Math object>"
      ]
     },
     "metadata": {},
     "output_type": "display_data"
    }
   ],
   "source": [
    "print_formula(baseline_model, X_train, y)"
   ]
  },
  {
   "cell_type": "code",
   "execution_count": 43,
   "metadata": {
    "scrolled": true
   },
   "outputs": [
    {
     "data": {
      "text/latex": [
       "$\\displaystyle medv = 36.608 - 0.081 * crim + 0.049 * zn + 3.037 * chas - 16.86 * nox + 3.621 * rm - 1.473 * dis + 0.292 * rad - 0.012 * tax - 0.932 * ptratio + 0.009 * b - 0.498 * lstat $"
      ],
      "text/plain": [
       "<IPython.core.display.Math object>"
      ]
     },
     "metadata": {},
     "output_type": "display_data"
    }
   ],
   "source": [
    "print_formula(rfe_model, X_train_rfe, y)"
   ]
  },
  {
   "cell_type": "code",
   "execution_count": 44,
   "metadata": {},
   "outputs": [
    {
     "data": {
      "text/latex": [
       "$\\displaystyle medv = 41.849 - 0.097 * crim + 0.09 * zn - 0.329 * indus + 4.364 * chas - 1.775 * dis + 0.012 * rad - 0.797 * lstat $"
      ],
      "text/plain": [
       "<IPython.core.display.Math object>"
      ]
     },
     "metadata": {},
     "output_type": "display_data"
    }
   ],
   "source": [
    "print_formula(vif_model, X_train_vif, y)"
   ]
  },
  {
   "cell_type": "markdown",
   "metadata": {},
   "source": [
    "Walaupun performa ketiga model di atas berbeda-beda, namun efek dari masing-masing predictor ke target variable `medv` sama.\n",
    "\n",
    "Nilai rumah di Boston akan naik apabila nilai-nilai berikut semakin tinggi:\n",
    "- `zn`: semakin luas tanah tempat tinggal, harga rumah akan lebih mahal\n",
    "- `chas`: apabila saluran berbatasan dengan Charles River, harga rumah akan lebih mahal\n",
    "- `rm`: semakin banyak kamar per hunian, harga rumah akan lebih mahal\n",
    "- `rad`: semakin tinggi aksesibilitas ke jalan raya, harga rumah akan lebih mahal\n",
    "- `b`: semakin tinggi proporsi orang kulit hitam, harga rumah akan lebih mahal (ini cukup SARA, mungkin pada real case variable ini boleh di takeout)\n",
    "\n",
    "Nilai rumah di Boston akan turun apabila nilai nilai berikut semakin tinggi:\n",
    "- `crim`: semakin tinggi tingkat kriminalitas, harga rumah akan lebih murah\n",
    "- `indus`: semakin banyak bisnis perindustrian, harga rumah akan lebih murah\n",
    "- `nox`: semakin tinggi konsentrasi nitrogen oksida (polusi), harga rumah akan lebih murah\n",
    "- `age`: semakin tinggi proporsi unit yang usang, harga rumah akan lebih murah\n",
    "- `dis`: semakin jauh dengan pusat kerja, harga rumah akan lebih murah\n",
    "- `tax`: semakin tinggi tarif pajak, harga rumah akan lebih murah\n",
    "- `ptratio`: semakin tinggi rasio murid dengan guru (kurangnya fasilitas edukasi), harga rumah akan lebih murah\n",
    "- `lstat`: semakin banyak penduduk marginal, harga rumah akan lebih murah"
   ]
  },
  {
   "cell_type": "markdown",
   "metadata": {},
   "source": [
    "Performa model terbaik: 75.7481%, namun masih melanggar asumsi dari linear regression. Untuk improve model ini, bisa coba hal-hal berikut:\n",
    "\n",
    "- Handle outlier dari target variable: Remove outlier ataupun transformasi nilai `medv` dengan fungsi log atau sqrt.\n",
    "- Gunakan algoritma lain yang lebih robust, misalnya: Random Forest Regression."
   ]
  }
 ],
 "metadata": {
  "kernelspec": {
   "display_name": "Python [conda env:indonesia-ai]",
   "language": "python",
   "name": "conda-env-indonesia-ai-py"
  },
  "language_info": {
   "codemirror_mode": {
    "name": "ipython",
    "version": 3
   },
   "file_extension": ".py",
   "mimetype": "text/x-python",
   "name": "python",
   "nbconvert_exporter": "python",
   "pygments_lexer": "ipython3",
   "version": "3.7.9"
  },
  "toc": {
   "base_numbering": 1,
   "nav_menu": {},
   "number_sections": true,
   "sideBar": true,
   "skip_h1_title": false,
   "title_cell": "Table of Contents",
   "title_sidebar": "Contents",
   "toc_cell": false,
   "toc_position": {},
   "toc_section_display": true,
   "toc_window_display": false
  },
  "varInspector": {
   "cols": {
    "lenName": 16,
    "lenType": 16,
    "lenVar": 40
   },
   "kernels_config": {
    "python": {
     "delete_cmd_postfix": "",
     "delete_cmd_prefix": "del ",
     "library": "var_list.py",
     "varRefreshCmd": "print(var_dic_list())"
    },
    "r": {
     "delete_cmd_postfix": ") ",
     "delete_cmd_prefix": "rm(",
     "library": "var_list.r",
     "varRefreshCmd": "cat(var_dic_list()) "
    }
   },
   "types_to_exclude": [
    "module",
    "function",
    "builtin_function_or_method",
    "instance",
    "_Feature"
   ],
   "window_display": false
  }
 },
 "nbformat": 4,
 "nbformat_minor": 4
}
